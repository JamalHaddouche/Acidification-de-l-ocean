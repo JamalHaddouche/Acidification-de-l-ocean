{
 "cells": [
  {
   "cell_type": "code",
   "execution_count": 1,
   "metadata": {},
   "outputs": [
    {
     "name": "stderr",
     "output_type": "stream",
     "text": [
      "C:\\Users\\jamal\\anaconda3\\lib\\site-packages\\xgboost\\compat.py:36: FutureWarning: pandas.Int64Index is deprecated and will be removed from pandas in a future version. Use pandas.Index with the appropriate dtype instead.\n",
      "  from pandas import MultiIndex, Int64Index\n"
     ]
    }
   ],
   "source": [
    "import pandas as pd\n",
    "import numpy as np\n",
    "import math\n",
    "from datetime import datetime as dt\n",
    "\n",
    "from sklearn.decomposition import PCA\n",
    "from sklearn.feature_selection import RFE\n",
    "\n",
    "from sklearn.ensemble import RandomForestRegressor\n",
    "from sklearn.svm import SVR\n",
    "from sklearn.model_selection import GridSearchCV\n",
    "import xgboost as xgb\n",
    "from sklearn.model_selection import train_test_split\n",
    "\n",
    "import matplotlib.pyplot as plt \n",
    "import seaborn as sb\n",
    "from itertools import combinations\n",
    "import warnings\n",
    "warnings.filterwarnings('ignore')\n",
    "plt.rcParams[\"figure.figsize\"] = (20,7)\n",
    "import pickle\n",
    "\n",
    "from sklearn.metrics import r2_score\n",
    "from sklearn.metrics import mean_absolute_error as  mae\n",
    "from sklearn.metrics import mean_squared_error as mse\n",
    "\n",
    "import tensorflow as tf\n",
    "from tensorflow import keras\n",
    "from keras.models import Sequential\n",
    "from keras.layers import Dense"
   ]
  },
  {
   "cell_type": "markdown",
   "metadata": {},
   "source": [
    "Travailer avec la données netoyées"
   ]
  },
  {
   "cell_type": "code",
   "execution_count": 37,
   "metadata": {},
   "outputs": [],
   "source": [
    "pacifica=pd.read_csv('PacificaClean.csv')"
   ]
  },
  {
   "cell_type": "code",
   "execution_count": 38,
   "metadata": {},
   "outputs": [],
   "source": [
    "pacifica=pacifica.drop(columns=['Unnamed: 0'])"
   ]
  },
  {
   "cell_type": "code",
   "execution_count": 40,
   "metadata": {},
   "outputs": [],
   "source": [
    "pacifica=pacifica[:30000]"
   ]
  },
  {
   "cell_type": "code",
   "execution_count": 41,
   "metadata": {},
   "outputs": [
    {
     "data": {
      "text/plain": [
       "(30000, 9)"
      ]
     },
     "execution_count": 41,
     "metadata": {},
     "output_type": "execute_result"
    }
   ],
   "source": [
    "pacifica.shape"
   ]
  },
  {
   "cell_type": "code",
   "execution_count": 42,
   "metadata": {},
   "outputs": [],
   "source": [
    "y=pacifica.iloc[:,-1]\n",
    "X=pacifica.drop(columns=['PH'])"
   ]
  },
  {
   "cell_type": "markdown",
   "metadata": {},
   "source": [
    "Extraction des données qui ont une grande importance"
   ]
  },
  {
   "cell_type": "markdown",
   "metadata": {},
   "source": [
    "**Machine learning SVR**"
   ]
  },
  {
   "cell_type": "code",
   "execution_count": 43,
   "metadata": {},
   "outputs": [],
   "source": [
    "#travailer seulement sur les variables (Temperature,Salinity,TCO2,Alkalinity,Alkalinity,Pressure)\n",
    "Features = X.filter(\n",
    "items=\n",
    "['TMP','OXYGEN','TCARBN','SILCAT', 'PHSPHT'])"
   ]
  },
  {
   "cell_type": "markdown",
   "metadata": {},
   "source": [
    "**Entrainement sur tout les variables**"
   ]
  },
  {
   "cell_type": "code",
   "execution_count": 44,
   "metadata": {},
   "outputs": [],
   "source": [
    "X_train, X_test, y_train, y_test = train_test_split(Features, y, test_size=0.2, random_state=42)"
   ]
  },
  {
   "cell_type": "markdown",
   "metadata": {},
   "source": [
    "**Svr entrainé par tout les variables**"
   ]
  },
  {
   "cell_type": "code",
   "execution_count": 45,
   "metadata": {},
   "outputs": [],
   "source": [
    "Svrparam = {\n",
    "                'C': [1.1, 5.4],\n",
    "\n",
    "                'epsilon': [0.05, 8, 0.2, 2, 7],\n",
    "\n",
    "                'gamma': [0.7001, 0.001,1,5]\n",
    "        }"
   ]
  },
  {
   "cell_type": "code",
   "execution_count": 46,
   "metadata": {},
   "outputs": [],
   "source": [
    "svr = SVR()\n",
    "clf = GridSearchCV(svr,Svrparam,cv=5,n_jobs=-1)\n",
    "clf.fit(X_train,y_train)\n",
    "modelsvr=clf.best_estimator_\n",
    "ypred=modelsvr.predict(X_test)"
   ]
  },
  {
   "cell_type": "code",
   "execution_count": 47,
   "metadata": {},
   "outputs": [],
   "source": [
    "SVR_R2=r2_score(y_test,ypred)\n",
    "SVR_MAE=mae(y_test,ypred)\n",
    "SVR_MSE=mse(y_test,ypred)\n",
    "SVR_RMSE=mse(y_test,ypred,squared=False)"
   ]
  },
  {
   "cell_type": "code",
   "execution_count": 48,
   "metadata": {},
   "outputs": [
    {
     "name": "stdout",
     "output_type": "stream",
     "text": [
      "R2= 0.8850243193184222\n",
      "MAE= 0.05588187519904231\n",
      "MSE= 0.006125641469497528\n"
     ]
    }
   ],
   "source": [
    "print('R2=',r2_score(y_test,ypred))\n",
    "print('MAE=',mae(y_test,ypred))\n",
    "print('MSE=',mse(y_test,ypred))"
   ]
  },
  {
   "cell_type": "code",
   "execution_count": 49,
   "metadata": {},
   "outputs": [],
   "source": [
    "# Save the model to a file\n",
    "with open(\"pacifica_all_features_SVR.pkl\", \"wb\") as file:\n",
    "    pickle.dump(modelsvr, file)"
   ]
  },
  {
   "cell_type": "markdown",
   "metadata": {},
   "source": [
    "Creation des combinaisons"
   ]
  },
  {
   "cell_type": "code",
   "execution_count": 60,
   "metadata": {},
   "outputs": [],
   "source": [
    "temp=['TMP']\n",
    "oxyg=['OXYGEN']\n",
    "tCarb=['TCARBN']\n",
    "silicate=['SILCAT']\n",
    "phosphate=['PHSPHT']\n",
    "#Création des combinaisons de quatre variables\n",
    "comb4Var = combinations([temp, oxyg,tCarb, silicate,phosphate],4)\n",
    "#Création des combinaisons de trois variables\n",
    "comb3Var = combinations([temp, oxyg,tCarb, silicate,phosphate],3)\n",
    "#Création des combinaisons de deux variables\n",
    "comb2Var = combinations([temp, oxyg,tCarb, silicate,phosphate],2)\n",
    "#Création des combinaisons de deux variables\n",
    "comb1Var = combinations([temp, oxyg,tCarb, silicate,phosphate],1)"
   ]
  },
  {
   "cell_type": "code",
   "execution_count": 61,
   "metadata": {},
   "outputs": [],
   "source": [
    "comb4v=list(comb4Var)\n",
    "comb3v=list(comb3Var)\n",
    "comb2v=list(comb2Var)\n",
    "comb1v=list(comb1Var)"
   ]
  },
  {
   "cell_type": "markdown",
   "metadata": {},
   "source": [
    "**Entrainement sur quatre variables**"
   ]
  },
  {
   "cell_type": "code",
   "execution_count": 76,
   "metadata": {},
   "outputs": [
    {
     "name": "stdout",
     "output_type": "stream",
     "text": [
      "R2 0.8849172015071058\n",
      "Mae 0.05586738731081763\n",
      "Mse 0.006131348461647793\n",
      "Rmse 0.07830292754200058\n",
      "SILCAT_TCARBN_OXYGEN_TMP_\n",
      "------\n",
      "R2 0.866685493884991\n",
      "Mae 0.062109471322963815\n",
      "Mse 0.007102692171967526\n",
      "Rmse 0.08427747131925309\n",
      "PHSPHT_TCARBN_OXYGEN_TMP_\n",
      "------\n",
      "R2 0.8648855064950408\n",
      "Mae 0.062286286830081625\n",
      "Mse 0.007198591385915108\n",
      "Rmse 0.08484451299827885\n",
      "PHSPHT_SILCAT_OXYGEN_TMP_\n",
      "------\n",
      "R2 0.8591343781390743\n",
      "Mae 0.06239841484399041\n",
      "Mse 0.007504998359501788\n",
      "Rmse 0.08663139361398839\n",
      "PHSPHT_SILCAT_TCARBN_TMP_\n",
      "------\n",
      "R2 0.879864926869293\n",
      "Mae 0.05721154041204706\n",
      "Mse 0.006400522106484808\n",
      "Rmse 0.0800032630989812\n",
      "PHSPHT_SILCAT_TCARBN_OXYGEN_\n",
      "------\n"
     ]
    }
   ],
   "source": [
    "svr_r2_4v={}\n",
    "svr_mae_4v={}\n",
    "svr_mse_4v={}\n",
    "svr_Rmse_4v={}\n",
    "for a in range(0,len(comb4v)):\n",
    "    xtr=pd.DataFrame()\n",
    "    xts=pd.DataFrame()\n",
    "    for i in comb4v[a] :\n",
    "        for x in i:\n",
    "            xtr.insert(0,x,X_train[x])\n",
    "            xts.insert(0,x,X_test[x])\n",
    "    modelSvr =SVR()\n",
    "\n",
    "    grids = GridSearchCV(modelSvr,Svrparam,cv=3,n_jobs=-1)\n",
    "\n",
    "    grids.fit(xtr,y_train)\n",
    "    modelsvr=grids.best_estimator_\n",
    "    modelsvr.fit(xtr,y_train)\n",
    "    ypred=modelsvr.predict(xts)\n",
    "    scoreR2=r2_score(y_test,ypred)\n",
    "    scoreMae=mae(y_test,ypred)\n",
    "    scoreMse=mse(y_test,ypred)\n",
    "    scoreRmse = mse(y_test,ypred,squared=False)\n",
    "    var=''\n",
    "    for col in xtr.columns:\n",
    "        var+=col+'_'\n",
    "    svr_r2_4v[var]=scoreR2\n",
    "    svr_mae_4v[var]=scoreMae\n",
    "    svr_mse_4v[var]=scoreMse\n",
    "    svr_Rmse_4v[var]=scoreRmse\n",
    "    print(\"R2\",scoreR2)\n",
    "    print(\"Mae\",scoreMae)\n",
    "    print(\"Mse\",scoreMse)\n",
    "    print(\"Rmse\",scoreRmse)\n",
    "    print(var)\n",
    "    pickle.dump(modelsvr,open('SVR_4v_'+var,\"wb\"))\n",
    "    print(\"------\")"
   ]
  },
  {
   "cell_type": "code",
   "execution_count": 77,
   "metadata": {},
   "outputs": [
    {
     "data": {
      "text/plain": [
       "{'SILCAT_TCARBN_OXYGEN_TMP_': 0.8849172015071058,\n",
       " 'PHSPHT_TCARBN_OXYGEN_TMP_': 0.866685493884991,\n",
       " 'PHSPHT_SILCAT_OXYGEN_TMP_': 0.8648855064950408,\n",
       " 'PHSPHT_SILCAT_TCARBN_TMP_': 0.8591343781390743,\n",
       " 'PHSPHT_SILCAT_TCARBN_OXYGEN_': 0.879864926869293}"
      ]
     },
     "execution_count": 77,
     "metadata": {},
     "output_type": "execute_result"
    }
   ],
   "source": [
    "svr_r2_4v"
   ]
  },
  {
   "cell_type": "code",
   "execution_count": 78,
   "metadata": {},
   "outputs": [],
   "source": [
    "svr_r2_4v['SILCAT & CARBN & YGEN & P_'] = svr_r2_4v.pop('SILCAT_TCARBN_OXYGEN_TMP_')\n",
    "svr_r2_4v['PHSPHT & TCARBN & OXYGEN & TMP'] = svr_r2_4v.pop('PHSPHT_TCARBN_OXYGEN_TMP_')\n",
    "svr_r2_4v['PHSPHT & SILCAT & OXYGEN & TMP'] = svr_r2_4v.pop('PHSPHT_SILCAT_OXYGEN_TMP_')\n",
    "svr_r2_4v['PHSPHT & SILCAT & TCARBN & TMP'] = svr_r2_4v.pop('PHSPHT_SILCAT_TCARBN_TMP_')\n",
    "svr_r2_4v['PHSPHT & SILCAT & TCARBN & OXYGEN'] = svr_r2_4v.pop('PHSPHT_SILCAT_TCARBN_OXYGEN_')"
   ]
  },
  {
   "cell_type": "markdown",
   "metadata": {},
   "source": [
    "Rf_r2_4v={}\n",
    "Rf_mae_4v={}\n",
    "Rf_mse_4v={}\n",
    "Rf_Rmse_4v="
   ]
  },
  {
   "cell_type": "code",
   "execution_count": 79,
   "metadata": {},
   "outputs": [],
   "source": [
    "Variables = list(svr_r2_4v.keys())\n",
    "ScoresR2 = list(svr_r2_4v.values())\n",
    "ScoreMae=list(svr_mae_4v.values())\n",
    "ScoreMse=list(svr_mse_4v.values())\n",
    "ScoreRmse=list(svr_Rmse_4v.values())\n",
    "tmp = max(ScoresR2)\n",
    "index = ScoresR2.index(tmp)"
   ]
  },
  {
   "cell_type": "code",
   "execution_count": 80,
   "metadata": {},
   "outputs": [
    {
     "name": "stdout",
     "output_type": "stream",
     "text": [
      "La meilleur combinaison pour quatre variables est: SILCAT & CARBN & YGEN & P_\n",
      "R2 0.8849172015071058\n",
      "Mae 0.05586738731081763\n",
      "Mse 0.006131348461647793\n",
      "Rmse 0.07830292754200058\n"
     ]
    }
   ],
   "source": [
    "print(\"La meilleur combinaison pour quatre variables est:\",Variables[index])\n",
    "print(\"R2\",ScoresR2[index])\n",
    "print(\"Mae\",ScoreMae[index])\n",
    "print(\"Mse\",ScoreMse[index])\n",
    "print(\"Rmse\",ScoreRmse[index])"
   ]
  },
  {
   "cell_type": "markdown",
   "metadata": {},
   "source": [
    "**ENTRAINEMENT UTILISANT 3 VARIABLES**"
   ]
  },
  {
   "cell_type": "code",
   "execution_count": 64,
   "metadata": {},
   "outputs": [
    {
     "name": "stdout",
     "output_type": "stream",
     "text": [
      "R2 0.8634528957789219\n",
      "Mae 0.0629764827301779\n",
      "Mse 0.007274917610385205\n",
      "Rmse 0.08529312756831704\n",
      "TCARBN_OXYGEN_TMP_\n",
      "------\n",
      "R2 0.8637964306432098\n",
      "Mae 0.06252118094655129\n",
      "Mse 0.007256614858025533\n",
      "Rmse 0.08518576675727896\n",
      "SILCAT_OXYGEN_TMP_\n",
      "------\n",
      "R2 0.8406397975654665\n",
      "Mae 0.06830920440362374\n",
      "Mse 0.008490347339834533\n",
      "Rmse 0.09214308080281738\n",
      "PHSPHT_OXYGEN_TMP_\n",
      "------\n",
      "R2 0.852083675564397\n",
      "Mae 0.06385970834056467\n",
      "Mse 0.00788064367705508\n",
      "Rmse 0.08877298956921006\n",
      "SILCAT_TCARBN_TMP_\n",
      "------\n",
      "R2 0.8357652176499581\n",
      "Mae 0.06760256259070017\n",
      "Mse 0.008750053816019824\n",
      "Rmse 0.09354172232763208\n",
      "PHSPHT_TCARBN_TMP_\n",
      "------\n",
      "R2 0.8547410734082667\n",
      "Mae 0.06315335523935046\n",
      "Mse 0.007739063593885634\n",
      "Rmse 0.08797194776680595\n",
      "PHSPHT_SILCAT_TMP_\n",
      "------\n",
      "R2 0.8786777603610303\n",
      "Mae 0.057558561757849715\n",
      "Mse 0.006463771624566397\n",
      "Rmse 0.08039758469361127\n",
      "SILCAT_TCARBN_OXYGEN_\n",
      "------\n",
      "R2 0.8542891538439665\n",
      "Mae 0.06553353355231331\n",
      "Mse 0.007763140835329592\n",
      "Rmse 0.08810868762687135\n",
      "PHSPHT_TCARBN_OXYGEN_\n",
      "------\n",
      "R2 0.8589110846882371\n",
      "Mae 0.06451898170382922\n",
      "Mse 0.007516894924185801\n",
      "Rmse 0.08670002839783734\n",
      "PHSPHT_SILCAT_OXYGEN_\n",
      "------\n",
      "R2 0.8444533933813246\n",
      "Mae 0.06734555801390718\n",
      "Mse 0.00828716767141213\n",
      "Rmse 0.0910338819968265\n",
      "PHSPHT_SILCAT_TCARBN_\n",
      "------\n"
     ]
    }
   ],
   "source": [
    "svr_r2_3v={}\n",
    "svr_mae_3v={}\n",
    "svr_mse_3v={}\n",
    "svr_Rmse_3v={}\n",
    "for a in range(0,len(comb3v)):\n",
    "    xtr=pd.DataFrame()\n",
    "    xts=pd.DataFrame()\n",
    "    for i in comb3v[a] :\n",
    "        for x in i:\n",
    "            xtr.insert(0,x,X_train[x])\n",
    "            xts.insert(0,x,X_test[x])\n",
    "    modelSvr =SVR()\n",
    "\n",
    "    grids = GridSearchCV(modelSvr,Svrparam,cv=3,n_jobs=-1)\n",
    "    grids.fit(xtr,y_train)\n",
    "    modelsvr=grids.best_estimator_\n",
    "    modelsvr.fit(xtr,y_train)\n",
    "    ypred=modelsvr.predict(xts)\n",
    "    scoreR2=r2_score(y_test,ypred)\n",
    "    scoreMae=mae(y_test,ypred)\n",
    "    scoreMse=mse(y_test,ypred)\n",
    "    scoreRmse = mse(y_test,ypred,squared=False)\n",
    "    var=''\n",
    "    for col in xtr.columns:\n",
    "        var+=col+'_'\n",
    "    svr_r2_3v[var]=scoreR2\n",
    "    svr_mae_3v[var]=scoreMae\n",
    "    svr_mse_3v[var]=scoreMse\n",
    "    svr_Rmse_3v[var]=scoreRmse\n",
    "    print(\"R2\",scoreR2)\n",
    "    print(\"Mae\",scoreMae)\n",
    "    print(\"Mse\",scoreMse)\n",
    "    print(\"Rmse\",scoreRmse)\n",
    "    print(var)\n",
    "    pickle.dump(modelsvr,open('SVR_3v_'+var,\"wb\"))\n",
    "    print(\"------\")"
   ]
  },
  {
   "cell_type": "code",
   "execution_count": 81,
   "metadata": {},
   "outputs": [
    {
     "data": {
      "text/plain": [
       "{'TCARBN_OXYGEN_TMP_': 0.8634528957789219,\n",
       " 'SILCAT_OXYGEN_TMP_': 0.8637964306432098,\n",
       " 'PHSPHT_OXYGEN_TMP_': 0.8406397975654665,\n",
       " 'SILCAT_TCARBN_TMP_': 0.852083675564397,\n",
       " 'PHSPHT_TCARBN_TMP_': 0.8357652176499581,\n",
       " 'PHSPHT_SILCAT_TMP_': 0.8547410734082667,\n",
       " 'SILCAT_TCARBN_OXYGEN_': 0.8786777603610303,\n",
       " 'PHSPHT_TCARBN_OXYGEN_': 0.8542891538439665,\n",
       " 'PHSPHT_SILCAT_OXYGEN_': 0.8589110846882371,\n",
       " 'PHSPHT_SILCAT_TCARBN_': 0.8444533933813246}"
      ]
     },
     "execution_count": 81,
     "metadata": {},
     "output_type": "execute_result"
    }
   ],
   "source": [
    "svr_r2_3v"
   ]
  },
  {
   "cell_type": "code",
   "execution_count": 84,
   "metadata": {},
   "outputs": [],
   "source": [
    "svr_r2_3v['TCARBN & OXYGEN & TMP'] = svr_r2_3v.pop('TCARBN & OXYGEN & TMP')\n",
    "svr_r2_3v['SILCAT & OXYGEN & TMP'] = svr_r2_3v.pop('SILCAT_OXYGEN_TMP_')\n",
    "svr_r2_3v['PHSPHT & OXYGEN & TMP'] = svr_r2_3v.pop('PHSPHT_OXYGEN_TMP_')\n",
    "svr_r2_3v['SILCAT & TCARBN & TMP'] = svr_r2_3v.pop('SILCAT_TCARBN_TMP_')\n",
    "svr_r2_3v['PHSPHT & TCARBN & TMP'] = svr_r2_3v.pop('PHSPHT_TCARBN_TMP_')\n",
    "svr_r2_3v['PHSPHT & SILCAT & TMP'] = svr_r2_3v.pop('PHSPHT_SILCAT_TMP_')\n",
    "svr_r2_3v['SILCAT & TCARBN & OXYGEN'] = svr_r2_3v.pop('SILCAT_TCARBN_OXYGEN_')\n",
    "svr_r2_3v['PHSPHT & TCARBN & OXYGEN'] = svr_r2_3v.pop('PHSPHT_TCARBN_OXYGEN_')\n",
    "svr_r2_3v['PHSPHT & SILCAT & OXYGEN'] = svr_r2_3v.pop('PHSPHT_SILCAT_OXYGEN_')\n",
    "svr_r2_3v['PHSPHT & SILCAT & TCARBN_'] = svr_r2_3v.pop('PHSPHT_SILCAT_TCARBN_')"
   ]
  },
  {
   "cell_type": "code",
   "execution_count": 85,
   "metadata": {},
   "outputs": [],
   "source": [
    "Variables = list(svr_r2_3v.keys())\n",
    "ScoresR2 = list(svr_r2_3v.values())\n",
    "ScoreMae=list(svr_mae_3v.values())\n",
    "ScoreMse=list(svr_mse_3v.values())\n",
    "ScoreRmse=list(svr_Rmse_3v.values())\n",
    "tmp = max(ScoresR2)\n",
    "index = ScoresR2.index(tmp)"
   ]
  },
  {
   "cell_type": "code",
   "execution_count": 86,
   "metadata": {},
   "outputs": [
    {
     "name": "stdout",
     "output_type": "stream",
     "text": [
      "La meilleur combinaison pour trois variables est: SILCAT & TCARBN & OXYGEN\n",
      "R2 0.8786777603610303\n",
      "Mae 0.057558561757849715\n",
      "Mse 0.006463771624566397\n",
      "Rmse 0.08039758469361127\n"
     ]
    }
   ],
   "source": [
    "print(\"La meilleur combinaison pour trois variables est:\",Variables[index])\n",
    "print(\"R2\",ScoresR2[index])\n",
    "print(\"Mae\",ScoreMae[index])\n",
    "print(\"Mse\",ScoreMse[index])\n",
    "print(\"Rmse\",ScoreRmse[index])"
   ]
  },
  {
   "cell_type": "markdown",
   "metadata": {},
   "source": [
    "**Entrainement utilisant deux variables**"
   ]
  },
  {
   "cell_type": "code",
   "execution_count": 89,
   "metadata": {},
   "outputs": [
    {
     "name": "stdout",
     "output_type": "stream",
     "text": [
      "OXYGEN_TMP_\n",
      "R2 0.8183507925293009\n",
      "Mae 0.07267423598885343\n",
      "Mse 0.009677854582705345\n",
      "Rmse 0.09837608745373717\n",
      "------\n",
      "TCARBN_TMP_\n",
      "R2 0.8115244655157685\n",
      "Mae 0.07226451018334637\n",
      "Mse 0.010041545683210787\n",
      "Rmse 0.1002075131076048\n",
      "------\n",
      "SILCAT_TMP_\n",
      "R2 0.8110820692554215\n",
      "Mae 0.0708141674238311\n",
      "Mse 0.010065115544787314\n",
      "Rmse 0.10032504943825003\n",
      "------\n",
      "PHSPHT_TMP_\n",
      "R2 0.8409025362698915\n",
      "Mae 0.06814974055455614\n",
      "Mse 0.008476349222198464\n",
      "Rmse 0.09206709087507035\n",
      "------\n",
      "TCARBN_OXYGEN_\n",
      "R2 0.8390812197846701\n",
      "Mae 0.06832287765475738\n",
      "Mse 0.008573384801590684\n",
      "Rmse 0.09259257422488416\n",
      "------\n",
      "SILCAT_OXYGEN_\n",
      "R2 0.8415764861353806\n",
      "Mae 0.06913875350101792\n",
      "Mse 0.008440442713796606\n",
      "Rmse 0.09187188206299361\n",
      "------\n",
      "PHSPHT_OXYGEN_\n",
      "R2 0.8329477699335442\n",
      "Mae 0.07118451197079471\n",
      "Mse 0.008900160990576183\n",
      "Rmse 0.09434066456505479\n",
      "------\n",
      "SILCAT_TCARBN_\n",
      "R2 0.821776203464889\n",
      "Mae 0.07190955642336323\n",
      "Mse 0.00949535651743865\n",
      "Rmse 0.09744411997364771\n",
      "------\n",
      "PHSPHT_TCARBN_\n",
      "R2 0.8285378522020121\n",
      "Mae 0.07076044763597178\n",
      "Mse 0.009135111327666676\n",
      "Rmse 0.09557777632727535\n",
      "------\n",
      "PHSPHT_SILCAT_\n",
      "R2 0.8299217360621436\n",
      "Mae 0.07133085166372613\n",
      "Mse 0.00906138115870976\n",
      "Rmse 0.09519128719956338\n",
      "------\n"
     ]
    }
   ],
   "source": [
    "svr_r2_2v={}\n",
    "svr_mae_2v={}\n",
    "svr_mse_2v={}\n",
    "svr_Rmse_2v={}\n",
    "for a in range(0,len(comb2v)):\n",
    "    xtr=pd.DataFrame()\n",
    "    xts=pd.DataFrame()\n",
    "    for i in comb2v[a] :\n",
    "        for x in i:\n",
    "            xtr.insert(0,x,X_train[x])\n",
    "            xts.insert(0,x,X_test[x])\n",
    "    modelSvr =SVR()\n",
    "\n",
    "    grids = GridSearchCV(modelSvr,Svrparam,cv=3,n_jobs=-1)\n",
    "    grids.fit(xtr,y_train)\n",
    "    modelsvr=grids.best_estimator_\n",
    "    modelsvr.fit(xtr,y_train)\n",
    "    ypred=modelsvr.predict(xts)\n",
    "    scoreR2=r2_score(y_test,ypred)\n",
    "    scoreMae=mae(y_test,ypred)\n",
    "    scoreMse=mse(y_test,ypred)\n",
    "    scoreRmse = mse(y_test,ypred,squared=False)\n",
    "    var=''\n",
    "    for col in xtr.columns:\n",
    "        var+=col+'_'\n",
    "    svr_r2_2v[var]=scoreR2\n",
    "    svr_mae_2v[var]=scoreMae\n",
    "    svr_mse_2v[var]=scoreMse\n",
    "    svr_Rmse_2v[var]=scoreRmse\n",
    "    print(var)\n",
    "    print(\"R2\",scoreR2)\n",
    "    print(\"Mae\",scoreMae)\n",
    "    print(\"Mse\",scoreMse)\n",
    "    print(\"Rmse\",scoreRmse)\n",
    "    pickle.dump(modelsvr,open('SVR_2v_'+var,\"wb\"))\n",
    "    print(\"------\")"
   ]
  },
  {
   "cell_type": "code",
   "execution_count": 90,
   "metadata": {},
   "outputs": [
    {
     "data": {
      "text/plain": [
       "{'OXYGEN_TMP_': 0.8183507925293009,\n",
       " 'TCARBN_TMP_': 0.8115244655157685,\n",
       " 'SILCAT_TMP_': 0.8110820692554215,\n",
       " 'PHSPHT_TMP_': 0.8409025362698915,\n",
       " 'TCARBN_OXYGEN_': 0.8390812197846701,\n",
       " 'SILCAT_OXYGEN_': 0.8415764861353806,\n",
       " 'PHSPHT_OXYGEN_': 0.8329477699335442,\n",
       " 'SILCAT_TCARBN_': 0.821776203464889,\n",
       " 'PHSPHT_TCARBN_': 0.8285378522020121,\n",
       " 'PHSPHT_SILCAT_': 0.8299217360621436}"
      ]
     },
     "execution_count": 90,
     "metadata": {},
     "output_type": "execute_result"
    }
   ],
   "source": [
    "svr_r2_2v"
   ]
  },
  {
   "cell_type": "code",
   "execution_count": 93,
   "metadata": {},
   "outputs": [],
   "source": [
    "svr_r2_2v['OXYGEN & TMP'] = svr_r2_2v.pop('OXYGEN_TMP_')\n",
    "svr_r2_2v['TCARBN & TMP'] = svr_r2_2v.pop('TCARBN_TMP_')\n",
    "svr_r2_2v['SILCAT & TMP'] = svr_r2_2v.pop('SILCAT_TMP_')\n",
    "svr_r2_2v['PHSPHT & TMP'] = svr_r2_2v.pop('PHSPHT_TMP_')\n",
    "svr_r2_2v['TCARBN & OXYGEN'] = svr_r2_2v.pop('TCARBN_OXYGEN_')\n",
    "svr_r2_2v['SILCAT & OXYGEN'] = svr_r2_2v.pop('SILCAT_OXYGEN_')\n",
    "svr_r2_2v['PHSPHT & OXYGEN'] = svr_r2_2v.pop('PHSPHT_OXYGEN_')\n",
    "svr_r2_2v['SILCAT & TCARBN'] = svr_r2_2v.pop('SILCAT_TCARBN_')\n",
    "svr_r2_2v['PHSPHT & TCARBN'] = svr_r2_2v.pop('PHSPHT_TCARBN_')\n",
    "svr_r2_2v['PHSPHT & SILCAT'] = svr_r2_2v.pop('PHSPHT_SILCAT_')"
   ]
  },
  {
   "cell_type": "code",
   "execution_count": 94,
   "metadata": {},
   "outputs": [],
   "source": [
    "Variables = list(svr_r2_2v.keys())\n",
    "ScoresR2 = list(svr_r2_2v.values())\n",
    "ScoreMae=list(svr_mae_2v.values())\n",
    "ScoreMse=list(svr_mse_2v.values())\n",
    "ScoreRmse=list(svr_Rmse_2v.values())\n",
    "tmp = max(ScoresR2)\n",
    "index = ScoresR2.index(tmp)"
   ]
  },
  {
   "cell_type": "code",
   "execution_count": 95,
   "metadata": {},
   "outputs": [
    {
     "name": "stdout",
     "output_type": "stream",
     "text": [
      "La meilleur combinaison pour deux variables est: SILCAT & OXYGEN\n",
      "R2 0.8415764861353806\n",
      "Mae 0.06913875350101792\n",
      "Mse 0.008440442713796606\n",
      "Rmse 0.09187188206299361\n"
     ]
    }
   ],
   "source": [
    "print(\"La meilleur combinaison pour deux variables est:\",Variables[index])\n",
    "print(\"R2\",ScoresR2[index])\n",
    "print(\"Mae\",ScoreMae[index])\n",
    "print(\"Mse\",ScoreMse[index])\n",
    "print(\"Rmse\",ScoreRmse[index])"
   ]
  },
  {
   "cell_type": "markdown",
   "metadata": {},
   "source": [
    "**Entrainement sur une variables**"
   ]
  },
  {
   "cell_type": "code",
   "execution_count": 91,
   "metadata": {},
   "outputs": [
    {
     "name": "stdout",
     "output_type": "stream",
     "text": [
      "TMP_\n",
      "R2 0.6451033746689192\n",
      "Mae 0.09887503443342051\n",
      "Mse 0.018908081018746453\n",
      "Rmse 0.13750665808878657\n",
      "------\n",
      "OXYGEN_\n",
      "R2 0.6283254724538143\n",
      "Mae 0.10672094416850995\n",
      "Mse 0.019801969299909614\n",
      "Rmse 0.14071947022324102\n",
      "------\n",
      "TCARBN_\n",
      "R2 0.7259506783997992\n",
      "Mae 0.08960497795961127\n",
      "Mse 0.01460072146675128\n",
      "Rmse 0.12083344514972368\n",
      "------\n",
      "SILCAT_\n",
      "R2 0.6791799933531426\n",
      "Mae 0.09880747490172617\n",
      "Mse 0.01709255666337919\n",
      "Rmse 0.13073850489958644\n",
      "------\n",
      "PHSPHT_\n",
      "R2 0.8160271824121614\n",
      "Mae 0.07424059893736554\n",
      "Mse 0.009801651218725385\n",
      "Rmse 0.09900328892882997\n",
      "------\n"
     ]
    }
   ],
   "source": [
    "svr_r2_1v={}\n",
    "svr_mae_1v={}\n",
    "svr_mse_1v={}\n",
    "svr_Rmse_1v={}\n",
    "for a in range(0,len(comb1v)):\n",
    "    xtr=pd.DataFrame()\n",
    "    xts=pd.DataFrame()\n",
    "    for i in comb1v[a] :\n",
    "        for x in i:\n",
    "            xtr.insert(0,x,X_train[x])\n",
    "            xts.insert(0,x,X_test[x])\n",
    "    modelSvr =SVR()\n",
    "\n",
    "    grids = GridSearchCV(modelSvr,Svrparam,cv=3,n_jobs=-1)\n",
    "    grids.fit(xtr,y_train)\n",
    "    modelsvr=grids.best_estimator_\n",
    "    modelsvr.fit(xtr,y_train)\n",
    "    ypred=modelsvr.predict(xts)\n",
    "    scoreR2=r2_score(y_test,ypred)\n",
    "    scoreMae=mae(y_test,ypred)\n",
    "    scoreMse=mse(y_test,ypred)\n",
    "    scoreRmse = mse(y_test,ypred,squared=False)\n",
    "    var=''\n",
    "    for col in xtr.columns:\n",
    "        var+=col+'_'\n",
    "    svr_r2_1v[var]=scoreR2\n",
    "    svr_mae_1v[var]=scoreMae\n",
    "    svr_mse_1v[var]=scoreMse\n",
    "    svr_Rmse_1v[var]=scoreRmse\n",
    "    print(var)\n",
    "    print(\"R2\",scoreR2)\n",
    "    print(\"Mae\",scoreMae)\n",
    "    print(\"Mse\",scoreMse)\n",
    "    print(\"Rmse\",scoreRmse)\n",
    "    pickle.dump(modelsvr,open('SVR_1v_'+var,\"wb\"))\n",
    "    print(\"------\")"
   ]
  },
  {
   "cell_type": "code",
   "execution_count": 96,
   "metadata": {},
   "outputs": [
    {
     "data": {
      "text/plain": [
       "{'TMP_': 0.6451033746689192,\n",
       " 'OXYGEN_': 0.6283254724538143,\n",
       " 'TCARBN_': 0.7259506783997992,\n",
       " 'SILCAT_': 0.6791799933531426,\n",
       " 'PHSPHT_': 0.8160271824121614}"
      ]
     },
     "execution_count": 96,
     "metadata": {},
     "output_type": "execute_result"
    }
   ],
   "source": [
    "svr_r2_1v"
   ]
  },
  {
   "cell_type": "code",
   "execution_count": 97,
   "metadata": {},
   "outputs": [],
   "source": [
    "svr_r2_1v['TMP'] = svr_r2_1v.pop('TMP_')\n",
    "svr_r2_1v['OXYGEN'] = svr_r2_1v.pop('OXYGEN_')\n",
    "svr_r2_1v['TCARBN'] = svr_r2_1v.pop('TCARBN_')\n",
    "svr_r2_1v['SILCAT'] = svr_r2_1v.pop('SILCAT_')\n",
    "svr_r2_1v['PHSPHT'] = svr_r2_1v.pop('PHSPHT_')"
   ]
  },
  {
   "cell_type": "code",
   "execution_count": 98,
   "metadata": {},
   "outputs": [],
   "source": [
    "Variables = list(svr_r2_1v.keys())\n",
    "ScoresR2 = list(svr_r2_1v.values())\n",
    "ScoreMae=list(svr_mae_1v.values())\n",
    "ScoreMse=list(svr_mse_1v.values())\n",
    "ScoreRmse=list(svr_Rmse_1v.values())\n",
    "tmp = max(ScoresR2)\n",
    "index = ScoresR2.index(tmp)"
   ]
  },
  {
   "cell_type": "code",
   "execution_count": 99,
   "metadata": {},
   "outputs": [
    {
     "name": "stdout",
     "output_type": "stream",
     "text": [
      "La meilleur combinaison pour une variables est: PHSPHT\n",
      "R2 0.8160271824121614\n",
      "Mae 0.07424059893736554\n",
      "Mse 0.009801651218725385\n",
      "Rmse 0.09900328892882997\n"
     ]
    }
   ],
   "source": [
    "print(\"La meilleur combinaison pour une variables est:\",Variables[index])\n",
    "print(\"R2\",ScoresR2[index])\n",
    "print(\"Mae\",ScoreMae[index])\n",
    "print(\"Mse\",ScoreMse[index])\n",
    "print(\"Rmse\",ScoreRmse[index])"
   ]
  }
 ],
 "metadata": {
  "kernelspec": {
   "display_name": "Python 3 (ipykernel)",
   "language": "python",
   "name": "python3"
  },
  "language_info": {
   "codemirror_mode": {
    "name": "ipython",
    "version": 3
   },
   "file_extension": ".py",
   "mimetype": "text/x-python",
   "name": "python",
   "nbconvert_exporter": "python",
   "pygments_lexer": "ipython3",
   "version": "3.9.1 (tags/v3.9.1:1e5d33e, Dec  7 2020, 17:08:21) [MSC v.1927 64 bit (AMD64)]"
  },
  "vscode": {
   "interpreter": {
    "hash": "d4c5ddc795be330f855bd0615a8a8068772e8fa446ee19691884c4ff421fcccb"
   }
  }
 },
 "nbformat": 4,
 "nbformat_minor": 2
}
