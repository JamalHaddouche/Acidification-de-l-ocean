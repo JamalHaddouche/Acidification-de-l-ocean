{
 "cells": [
  {
   "cell_type": "code",
   "execution_count": 38,
   "metadata": {},
   "outputs": [],
   "source": [
    "import pandas as pd\n",
    "import numpy as np\n",
    "import math\n",
    "from datetime import datetime as dt\n",
    "\n",
    "from sklearn.decomposition import PCA\n",
    "from sklearn.feature_selection import RFE\n",
    "\n",
    "from sklearn.ensemble import RandomForestRegressor\n",
    "from sklearn.svm import SVR\n",
    "from sklearn.model_selection import GridSearchCV\n",
    "import xgboost as xgb\n",
    "from sklearn.model_selection import train_test_split\n",
    "\n",
    "import matplotlib.pyplot as plt \n",
    "import seaborn as sb\n",
    "from itertools import combinations\n",
    "import warnings\n",
    "warnings.filterwarnings('ignore')\n",
    "plt.rcParams[\"figure.figsize\"] = (20,7)\n",
    "import pickle\n",
    "\n",
    "from sklearn.metrics import r2_score\n",
    "from sklearn.metrics import mean_absolute_error as  mae\n",
    "from sklearn.metrics import mean_squared_error as mse\n",
    "\n",
    "import tensorflow as tf\n",
    "from tensorflow import keras\n",
    "from keras.models import Sequential\n",
    "from keras.layers import Dense"
   ]
  },
  {
   "cell_type": "code",
   "execution_count": 39,
   "metadata": {},
   "outputs": [],
   "source": [
    "data = pd.read_csv(r'C:\\Users\\jamal\\Desktop\\projet2\\data_from_PACIFICA_Database.csv', sep=',')\n",
    "pacifica = data.replace(-999, np.nan)"
   ]
  },
  {
   "cell_type": "code",
   "execution_count": 3,
   "metadata": {},
   "outputs": [
    {
     "data": {
      "text/html": [
       "<div>\n",
       "<style scoped>\n",
       "    .dataframe tbody tr th:only-of-type {\n",
       "        vertical-align: middle;\n",
       "    }\n",
       "\n",
       "    .dataframe tbody tr th {\n",
       "        vertical-align: top;\n",
       "    }\n",
       "\n",
       "    .dataframe thead th {\n",
       "        text-align: right;\n",
       "    }\n",
       "</style>\n",
       "<table border=\"1\" class=\"dataframe\">\n",
       "  <thead>\n",
       "    <tr style=\"text-align: right;\">\n",
       "      <th></th>\n",
       "      <th>Cruise:METAVAR:TEXT:21</th>\n",
       "      <th>Station</th>\n",
       "      <th>Type</th>\n",
       "      <th>mon/day/yr</th>\n",
       "      <th>hh:mm</th>\n",
       "      <th>Longitude</th>\n",
       "      <th>Latitude</th>\n",
       "      <th>PRS</th>\n",
       "      <th>DEPTH</th>\n",
       "      <th>TMP</th>\n",
       "      <th>SAL</th>\n",
       "      <th>OXYGEN</th>\n",
       "      <th>PHSPHT</th>\n",
       "      <th>SILCAT</th>\n",
       "      <th>NITRAT</th>\n",
       "      <th>ALKALI</th>\n",
       "      <th>TCARBN</th>\n",
       "      <th>PH</th>\n",
       "    </tr>\n",
       "  </thead>\n",
       "  <tbody>\n",
       "    <tr>\n",
       "      <th>0</th>\n",
       "      <td>09FA20010524</td>\n",
       "      <td>1</td>\n",
       "      <td>B</td>\n",
       "      <td>05/25/2001</td>\n",
       "      <td>NaN</td>\n",
       "      <td>179.95821</td>\n",
       "      <td>-44.429</td>\n",
       "      <td>997.4</td>\n",
       "      <td>986</td>\n",
       "      <td>4.547</td>\n",
       "      <td>NaN</td>\n",
       "      <td>NaN</td>\n",
       "      <td>NaN</td>\n",
       "      <td>NaN</td>\n",
       "      <td>NaN</td>\n",
       "      <td>NaN</td>\n",
       "      <td>NaN</td>\n",
       "      <td>NaN</td>\n",
       "    </tr>\n",
       "    <tr>\n",
       "      <th>1</th>\n",
       "      <td>09FA20010524</td>\n",
       "      <td>1</td>\n",
       "      <td>B</td>\n",
       "      <td>05/25/2001</td>\n",
       "      <td>NaN</td>\n",
       "      <td>179.95821</td>\n",
       "      <td>-44.429</td>\n",
       "      <td>998.3</td>\n",
       "      <td>987</td>\n",
       "      <td>4.533</td>\n",
       "      <td>NaN</td>\n",
       "      <td>NaN</td>\n",
       "      <td>NaN</td>\n",
       "      <td>NaN</td>\n",
       "      <td>NaN</td>\n",
       "      <td>NaN</td>\n",
       "      <td>NaN</td>\n",
       "      <td>NaN</td>\n",
       "    </tr>\n",
       "    <tr>\n",
       "      <th>2</th>\n",
       "      <td>09FA20010524</td>\n",
       "      <td>1</td>\n",
       "      <td>B</td>\n",
       "      <td>05/25/2001</td>\n",
       "      <td>NaN</td>\n",
       "      <td>179.95821</td>\n",
       "      <td>-44.429</td>\n",
       "      <td>998.7</td>\n",
       "      <td>987</td>\n",
       "      <td>4.536</td>\n",
       "      <td>NaN</td>\n",
       "      <td>NaN</td>\n",
       "      <td>NaN</td>\n",
       "      <td>NaN</td>\n",
       "      <td>NaN</td>\n",
       "      <td>NaN</td>\n",
       "      <td>NaN</td>\n",
       "      <td>NaN</td>\n",
       "    </tr>\n",
       "    <tr>\n",
       "      <th>3</th>\n",
       "      <td>09FA20010524</td>\n",
       "      <td>1</td>\n",
       "      <td>B</td>\n",
       "      <td>05/25/2001</td>\n",
       "      <td>NaN</td>\n",
       "      <td>179.95821</td>\n",
       "      <td>-44.429</td>\n",
       "      <td>998.7</td>\n",
       "      <td>987</td>\n",
       "      <td>4.536</td>\n",
       "      <td>NaN</td>\n",
       "      <td>NaN</td>\n",
       "      <td>NaN</td>\n",
       "      <td>NaN</td>\n",
       "      <td>NaN</td>\n",
       "      <td>NaN</td>\n",
       "      <td>NaN</td>\n",
       "      <td>NaN</td>\n",
       "    </tr>\n",
       "    <tr>\n",
       "      <th>4</th>\n",
       "      <td>09FA20010524</td>\n",
       "      <td>1</td>\n",
       "      <td>B</td>\n",
       "      <td>05/25/2001</td>\n",
       "      <td>NaN</td>\n",
       "      <td>179.95821</td>\n",
       "      <td>-44.429</td>\n",
       "      <td>998.7</td>\n",
       "      <td>987</td>\n",
       "      <td>4.536</td>\n",
       "      <td>NaN</td>\n",
       "      <td>NaN</td>\n",
       "      <td>NaN</td>\n",
       "      <td>NaN</td>\n",
       "      <td>NaN</td>\n",
       "      <td>NaN</td>\n",
       "      <td>NaN</td>\n",
       "      <td>NaN</td>\n",
       "    </tr>\n",
       "  </tbody>\n",
       "</table>\n",
       "</div>"
      ],
      "text/plain": [
       "  Cruise:METAVAR:TEXT:21 Station Type  mon/day/yr hh:mm  Longitude  Latitude  \\\n",
       "0           09FA20010524       1    B  05/25/2001   NaN  179.95821   -44.429   \n",
       "1           09FA20010524       1    B  05/25/2001   NaN  179.95821   -44.429   \n",
       "2           09FA20010524       1    B  05/25/2001   NaN  179.95821   -44.429   \n",
       "3           09FA20010524       1    B  05/25/2001   NaN  179.95821   -44.429   \n",
       "4           09FA20010524       1    B  05/25/2001   NaN  179.95821   -44.429   \n",
       "\n",
       "     PRS  DEPTH    TMP  SAL  OXYGEN  PHSPHT  SILCAT  NITRAT  ALKALI  TCARBN  \\\n",
       "0  997.4    986  4.547  NaN     NaN     NaN     NaN     NaN     NaN     NaN   \n",
       "1  998.3    987  4.533  NaN     NaN     NaN     NaN     NaN     NaN     NaN   \n",
       "2  998.7    987  4.536  NaN     NaN     NaN     NaN     NaN     NaN     NaN   \n",
       "3  998.7    987  4.536  NaN     NaN     NaN     NaN     NaN     NaN     NaN   \n",
       "4  998.7    987  4.536  NaN     NaN     NaN     NaN     NaN     NaN     NaN   \n",
       "\n",
       "   PH  \n",
       "0 NaN  \n",
       "1 NaN  \n",
       "2 NaN  \n",
       "3 NaN  \n",
       "4 NaN  "
      ]
     },
     "execution_count": 3,
     "metadata": {},
     "output_type": "execute_result"
    }
   ],
   "source": [
    "pacifica.head(5)"
   ]
  },
  {
   "cell_type": "code",
   "execution_count": 25,
   "metadata": {},
   "outputs": [
    {
     "data": {
      "text/plain": [
       "Index(['Cruise:METAVAR:TEXT:21', 'Station', 'Type', 'mon/day/yr', 'hh:mm',\n",
       "       'Longitude', 'Latitude', 'PRS', 'DEPTH', 'TMP', 'SAL', 'OXYGEN',\n",
       "       'PHSPHT', 'SILCAT', 'NITRAT', 'ALKALI', 'TCARBN', 'PH'],\n",
       "      dtype='object')"
      ]
     },
     "execution_count": 25,
     "metadata": {},
     "output_type": "execute_result"
    }
   ],
   "source": [
    "pacifica.columns"
   ]
  },
  {
   "cell_type": "code",
   "execution_count": 40,
   "metadata": {},
   "outputs": [],
   "source": [
    "pacifica = pacifica.filter(\n",
    "items=\n",
    "['TMP','OXYGEN','SAL', 'TCARBN', 'ALKALI', 'PHSPHT', 'SILCAT', 'PRS', 'PH'])"
   ]
  },
  {
   "cell_type": "code",
   "execution_count": 5,
   "metadata": {},
   "outputs": [
    {
     "data": {
      "text/html": [
       "<div>\n",
       "<style scoped>\n",
       "    .dataframe tbody tr th:only-of-type {\n",
       "        vertical-align: middle;\n",
       "    }\n",
       "\n",
       "    .dataframe tbody tr th {\n",
       "        vertical-align: top;\n",
       "    }\n",
       "\n",
       "    .dataframe thead th {\n",
       "        text-align: right;\n",
       "    }\n",
       "</style>\n",
       "<table border=\"1\" class=\"dataframe\">\n",
       "  <thead>\n",
       "    <tr style=\"text-align: right;\">\n",
       "      <th></th>\n",
       "      <th>TMP</th>\n",
       "      <th>OXYGEN</th>\n",
       "      <th>SAL</th>\n",
       "      <th>TCARBN</th>\n",
       "      <th>ALKALI</th>\n",
       "      <th>PHSPHT</th>\n",
       "      <th>SILCAT</th>\n",
       "      <th>PRS</th>\n",
       "      <th>PH</th>\n",
       "    </tr>\n",
       "  </thead>\n",
       "  <tbody>\n",
       "    <tr>\n",
       "      <th>0</th>\n",
       "      <td>4.547</td>\n",
       "      <td>NaN</td>\n",
       "      <td>NaN</td>\n",
       "      <td>NaN</td>\n",
       "      <td>NaN</td>\n",
       "      <td>NaN</td>\n",
       "      <td>NaN</td>\n",
       "      <td>997.4</td>\n",
       "      <td>NaN</td>\n",
       "    </tr>\n",
       "    <tr>\n",
       "      <th>1</th>\n",
       "      <td>4.533</td>\n",
       "      <td>NaN</td>\n",
       "      <td>NaN</td>\n",
       "      <td>NaN</td>\n",
       "      <td>NaN</td>\n",
       "      <td>NaN</td>\n",
       "      <td>NaN</td>\n",
       "      <td>998.3</td>\n",
       "      <td>NaN</td>\n",
       "    </tr>\n",
       "    <tr>\n",
       "      <th>2</th>\n",
       "      <td>4.536</td>\n",
       "      <td>NaN</td>\n",
       "      <td>NaN</td>\n",
       "      <td>NaN</td>\n",
       "      <td>NaN</td>\n",
       "      <td>NaN</td>\n",
       "      <td>NaN</td>\n",
       "      <td>998.7</td>\n",
       "      <td>NaN</td>\n",
       "    </tr>\n",
       "    <tr>\n",
       "      <th>3</th>\n",
       "      <td>4.536</td>\n",
       "      <td>NaN</td>\n",
       "      <td>NaN</td>\n",
       "      <td>NaN</td>\n",
       "      <td>NaN</td>\n",
       "      <td>NaN</td>\n",
       "      <td>NaN</td>\n",
       "      <td>998.7</td>\n",
       "      <td>NaN</td>\n",
       "    </tr>\n",
       "    <tr>\n",
       "      <th>4</th>\n",
       "      <td>4.536</td>\n",
       "      <td>NaN</td>\n",
       "      <td>NaN</td>\n",
       "      <td>NaN</td>\n",
       "      <td>NaN</td>\n",
       "      <td>NaN</td>\n",
       "      <td>NaN</td>\n",
       "      <td>998.7</td>\n",
       "      <td>NaN</td>\n",
       "    </tr>\n",
       "  </tbody>\n",
       "</table>\n",
       "</div>"
      ],
      "text/plain": [
       "     TMP  OXYGEN  SAL  TCARBN  ALKALI  PHSPHT  SILCAT    PRS  PH\n",
       "0  4.547     NaN  NaN     NaN     NaN     NaN     NaN  997.4 NaN\n",
       "1  4.533     NaN  NaN     NaN     NaN     NaN     NaN  998.3 NaN\n",
       "2  4.536     NaN  NaN     NaN     NaN     NaN     NaN  998.7 NaN\n",
       "3  4.536     NaN  NaN     NaN     NaN     NaN     NaN  998.7 NaN\n",
       "4  4.536     NaN  NaN     NaN     NaN     NaN     NaN  998.7 NaN"
      ]
     },
     "execution_count": 5,
     "metadata": {},
     "output_type": "execute_result"
    }
   ],
   "source": [
    "pacifica.head(5)"
   ]
  },
  {
   "cell_type": "code",
   "execution_count": 6,
   "metadata": {},
   "outputs": [
    {
     "name": "stdout",
     "output_type": "stream",
     "text": [
      "<class 'pandas.core.frame.DataFrame'>\n",
      "RangeIndex: 277323 entries, 0 to 277322\n",
      "Data columns (total 9 columns):\n",
      " #   Column  Non-Null Count   Dtype  \n",
      "---  ------  --------------   -----  \n",
      " 0   TMP     277323 non-null  float64\n",
      " 1   OXYGEN  239609 non-null  float64\n",
      " 2   SAL     252155 non-null  float64\n",
      " 3   TCARBN  102306 non-null  float64\n",
      " 4   ALKALI  76898 non-null   float64\n",
      " 5   PHSPHT  230945 non-null  float64\n",
      " 6   SILCAT  218789 non-null  float64\n",
      " 7   PRS     277323 non-null  float64\n",
      " 8   PH      83278 non-null   float64\n",
      "dtypes: float64(9)\n",
      "memory usage: 19.0 MB\n"
     ]
    }
   ],
   "source": [
    "pacifica.info()"
   ]
  },
  {
   "cell_type": "markdown",
   "metadata": {},
   "source": [
    "Supprimer les lignes dans une colonne contient une valeur null"
   ]
  },
  {
   "cell_type": "code",
   "execution_count": 41,
   "metadata": {},
   "outputs": [
    {
     "name": "stdout",
     "output_type": "stream",
     "text": [
      "277323\n",
      "57264\n"
     ]
    }
   ],
   "source": [
    "indexRow = pacifica[(pacifica.TMP.isna()) |(pacifica.OXYGEN.isna()) |\n",
    "                  (pacifica.SAL.isna()) | (pacifica.TCARBN.isna()) | (pacifica.ALKALI.isna()) |\n",
    "                  (pacifica.PHSPHT.isna()) | (pacifica.SILCAT.isna()) | (pacifica.PRS.isna()) |\n",
    "                  (pacifica.PH.isna())].index\n",
    "\n",
    "# pCO2 = null\n",
    "print(len(pacifica))\n",
    "pacifica.drop(indexRow, inplace=True)\n",
    "print(len(pacifica))\n",
    "# len(indexRow)"
   ]
  },
  {
   "cell_type": "code",
   "execution_count": 43,
   "metadata": {},
   "outputs": [
    {
     "data": {
      "text/html": [
       "<div>\n",
       "<style scoped>\n",
       "    .dataframe tbody tr th:only-of-type {\n",
       "        vertical-align: middle;\n",
       "    }\n",
       "\n",
       "    .dataframe tbody tr th {\n",
       "        vertical-align: top;\n",
       "    }\n",
       "\n",
       "    .dataframe thead th {\n",
       "        text-align: right;\n",
       "    }\n",
       "</style>\n",
       "<table border=\"1\" class=\"dataframe\">\n",
       "  <thead>\n",
       "    <tr style=\"text-align: right;\">\n",
       "      <th></th>\n",
       "      <th>TMP</th>\n",
       "      <th>OXYGEN</th>\n",
       "      <th>SAL</th>\n",
       "      <th>TCARBN</th>\n",
       "      <th>ALKALI</th>\n",
       "      <th>PHSPHT</th>\n",
       "      <th>SILCAT</th>\n",
       "      <th>PRS</th>\n",
       "      <th>PH</th>\n",
       "    </tr>\n",
       "  </thead>\n",
       "  <tbody>\n",
       "    <tr>\n",
       "      <th>4197</th>\n",
       "      <td>7.80</td>\n",
       "      <td>318.0</td>\n",
       "      <td>32.547001</td>\n",
       "      <td>2003.6</td>\n",
       "      <td>2214.4</td>\n",
       "      <td>0.92</td>\n",
       "      <td>14.36</td>\n",
       "      <td>10.8</td>\n",
       "      <td>8.182</td>\n",
       "    </tr>\n",
       "    <tr>\n",
       "      <th>4199</th>\n",
       "      <td>5.70</td>\n",
       "      <td>294.8</td>\n",
       "      <td>32.901001</td>\n",
       "      <td>2055.1</td>\n",
       "      <td>2235.7</td>\n",
       "      <td>1.32</td>\n",
       "      <td>20.03</td>\n",
       "      <td>99.2</td>\n",
       "      <td>8.135</td>\n",
       "    </tr>\n",
       "    <tr>\n",
       "      <th>4201</th>\n",
       "      <td>5.22</td>\n",
       "      <td>180.0</td>\n",
       "      <td>33.786999</td>\n",
       "      <td>2190.2</td>\n",
       "      <td>2265.2</td>\n",
       "      <td>2.13</td>\n",
       "      <td>50.28</td>\n",
       "      <td>198.0</td>\n",
       "      <td>7.828</td>\n",
       "    </tr>\n",
       "    <tr>\n",
       "      <th>4202</th>\n",
       "      <td>4.41</td>\n",
       "      <td>124.0</td>\n",
       "      <td>33.844002</td>\n",
       "      <td>2242.8</td>\n",
       "      <td>2307.4</td>\n",
       "      <td>2.56</td>\n",
       "      <td>68.43</td>\n",
       "      <td>298.4</td>\n",
       "      <td>7.799</td>\n",
       "    </tr>\n",
       "    <tr>\n",
       "      <th>4203</th>\n",
       "      <td>4.11</td>\n",
       "      <td>72.9</td>\n",
       "      <td>33.958000</td>\n",
       "      <td>2287.3</td>\n",
       "      <td>2330.2</td>\n",
       "      <td>2.86</td>\n",
       "      <td>86.68</td>\n",
       "      <td>401.1</td>\n",
       "      <td>7.724</td>\n",
       "    </tr>\n",
       "  </tbody>\n",
       "</table>\n",
       "</div>"
      ],
      "text/plain": [
       "       TMP  OXYGEN        SAL  TCARBN  ALKALI  PHSPHT  SILCAT    PRS     PH\n",
       "4197  7.80   318.0  32.547001  2003.6  2214.4    0.92   14.36   10.8  8.182\n",
       "4199  5.70   294.8  32.901001  2055.1  2235.7    1.32   20.03   99.2  8.135\n",
       "4201  5.22   180.0  33.786999  2190.2  2265.2    2.13   50.28  198.0  7.828\n",
       "4202  4.41   124.0  33.844002  2242.8  2307.4    2.56   68.43  298.4  7.799\n",
       "4203  4.11    72.9  33.958000  2287.3  2330.2    2.86   86.68  401.1  7.724"
      ]
     },
     "execution_count": 43,
     "metadata": {},
     "output_type": "execute_result"
    }
   ],
   "source": [
    "pacifica.head(5)"
   ]
  },
  {
   "cell_type": "code",
   "execution_count": 42,
   "metadata": {},
   "outputs": [],
   "source": [
    "#Sauvegarder la nouvelle dataset dans un fichier csv\n",
    "pacifica.to_csv('PacificaClean.csv')"
   ]
  },
  {
   "cell_type": "markdown",
   "metadata": {},
   "source": [
    "Travailer avec la données netoyées"
   ]
  },
  {
   "cell_type": "code",
   "execution_count": 44,
   "metadata": {},
   "outputs": [],
   "source": [
    "pacifica=pd.read_csv('PacificaClean.csv')"
   ]
  },
  {
   "cell_type": "code",
   "execution_count": 45,
   "metadata": {},
   "outputs": [
    {
     "data": {
      "text/html": [
       "<div>\n",
       "<style scoped>\n",
       "    .dataframe tbody tr th:only-of-type {\n",
       "        vertical-align: middle;\n",
       "    }\n",
       "\n",
       "    .dataframe tbody tr th {\n",
       "        vertical-align: top;\n",
       "    }\n",
       "\n",
       "    .dataframe thead th {\n",
       "        text-align: right;\n",
       "    }\n",
       "</style>\n",
       "<table border=\"1\" class=\"dataframe\">\n",
       "  <thead>\n",
       "    <tr style=\"text-align: right;\">\n",
       "      <th></th>\n",
       "      <th>Unnamed: 0</th>\n",
       "      <th>TMP</th>\n",
       "      <th>OXYGEN</th>\n",
       "      <th>SAL</th>\n",
       "      <th>TCARBN</th>\n",
       "      <th>ALKALI</th>\n",
       "      <th>PHSPHT</th>\n",
       "      <th>SILCAT</th>\n",
       "      <th>PRS</th>\n",
       "      <th>PH</th>\n",
       "    </tr>\n",
       "  </thead>\n",
       "  <tbody>\n",
       "    <tr>\n",
       "      <th>0</th>\n",
       "      <td>4197</td>\n",
       "      <td>7.80</td>\n",
       "      <td>318.0</td>\n",
       "      <td>32.547001</td>\n",
       "      <td>2003.6</td>\n",
       "      <td>2214.4</td>\n",
       "      <td>0.92</td>\n",
       "      <td>14.36</td>\n",
       "      <td>10.8</td>\n",
       "      <td>8.182</td>\n",
       "    </tr>\n",
       "    <tr>\n",
       "      <th>1</th>\n",
       "      <td>4199</td>\n",
       "      <td>5.70</td>\n",
       "      <td>294.8</td>\n",
       "      <td>32.901001</td>\n",
       "      <td>2055.1</td>\n",
       "      <td>2235.7</td>\n",
       "      <td>1.32</td>\n",
       "      <td>20.03</td>\n",
       "      <td>99.2</td>\n",
       "      <td>8.135</td>\n",
       "    </tr>\n",
       "    <tr>\n",
       "      <th>2</th>\n",
       "      <td>4201</td>\n",
       "      <td>5.22</td>\n",
       "      <td>180.0</td>\n",
       "      <td>33.786999</td>\n",
       "      <td>2190.2</td>\n",
       "      <td>2265.2</td>\n",
       "      <td>2.13</td>\n",
       "      <td>50.28</td>\n",
       "      <td>198.0</td>\n",
       "      <td>7.828</td>\n",
       "    </tr>\n",
       "    <tr>\n",
       "      <th>3</th>\n",
       "      <td>4202</td>\n",
       "      <td>4.41</td>\n",
       "      <td>124.0</td>\n",
       "      <td>33.844002</td>\n",
       "      <td>2242.8</td>\n",
       "      <td>2307.4</td>\n",
       "      <td>2.56</td>\n",
       "      <td>68.43</td>\n",
       "      <td>298.4</td>\n",
       "      <td>7.799</td>\n",
       "    </tr>\n",
       "    <tr>\n",
       "      <th>4</th>\n",
       "      <td>4203</td>\n",
       "      <td>4.11</td>\n",
       "      <td>72.9</td>\n",
       "      <td>33.958000</td>\n",
       "      <td>2287.3</td>\n",
       "      <td>2330.2</td>\n",
       "      <td>2.86</td>\n",
       "      <td>86.68</td>\n",
       "      <td>401.1</td>\n",
       "      <td>7.724</td>\n",
       "    </tr>\n",
       "  </tbody>\n",
       "</table>\n",
       "</div>"
      ],
      "text/plain": [
       "   Unnamed: 0   TMP  OXYGEN        SAL  TCARBN  ALKALI  PHSPHT  SILCAT    PRS  \\\n",
       "0        4197  7.80   318.0  32.547001  2003.6  2214.4    0.92   14.36   10.8   \n",
       "1        4199  5.70   294.8  32.901001  2055.1  2235.7    1.32   20.03   99.2   \n",
       "2        4201  5.22   180.0  33.786999  2190.2  2265.2    2.13   50.28  198.0   \n",
       "3        4202  4.41   124.0  33.844002  2242.8  2307.4    2.56   68.43  298.4   \n",
       "4        4203  4.11    72.9  33.958000  2287.3  2330.2    2.86   86.68  401.1   \n",
       "\n",
       "      PH  \n",
       "0  8.182  \n",
       "1  8.135  \n",
       "2  7.828  \n",
       "3  7.799  \n",
       "4  7.724  "
      ]
     },
     "execution_count": 45,
     "metadata": {},
     "output_type": "execute_result"
    }
   ],
   "source": [
    "pacifica.head(5)"
   ]
  },
  {
   "cell_type": "code",
   "execution_count": 46,
   "metadata": {},
   "outputs": [],
   "source": [
    "pacifica=pacifica.drop(columns=['Unnamed: 0'])"
   ]
  },
  {
   "cell_type": "code",
   "execution_count": 4,
   "metadata": {},
   "outputs": [
    {
     "data": {
      "text/html": [
       "<div>\n",
       "<style scoped>\n",
       "    .dataframe tbody tr th:only-of-type {\n",
       "        vertical-align: middle;\n",
       "    }\n",
       "\n",
       "    .dataframe tbody tr th {\n",
       "        vertical-align: top;\n",
       "    }\n",
       "\n",
       "    .dataframe thead th {\n",
       "        text-align: right;\n",
       "    }\n",
       "</style>\n",
       "<table border=\"1\" class=\"dataframe\">\n",
       "  <thead>\n",
       "    <tr style=\"text-align: right;\">\n",
       "      <th></th>\n",
       "      <th>TMP</th>\n",
       "      <th>OXYGEN</th>\n",
       "      <th>SAL</th>\n",
       "      <th>TCARBN</th>\n",
       "      <th>ALKALI</th>\n",
       "      <th>PHSPHT</th>\n",
       "      <th>SILCAT</th>\n",
       "      <th>PRS</th>\n",
       "      <th>PH</th>\n",
       "    </tr>\n",
       "  </thead>\n",
       "  <tbody>\n",
       "    <tr>\n",
       "      <th>0</th>\n",
       "      <td>7.80</td>\n",
       "      <td>318.0</td>\n",
       "      <td>32.547001</td>\n",
       "      <td>2003.6</td>\n",
       "      <td>2214.4</td>\n",
       "      <td>0.92</td>\n",
       "      <td>14.36</td>\n",
       "      <td>10.8</td>\n",
       "      <td>8.182</td>\n",
       "    </tr>\n",
       "    <tr>\n",
       "      <th>1</th>\n",
       "      <td>5.70</td>\n",
       "      <td>294.8</td>\n",
       "      <td>32.901001</td>\n",
       "      <td>2055.1</td>\n",
       "      <td>2235.7</td>\n",
       "      <td>1.32</td>\n",
       "      <td>20.03</td>\n",
       "      <td>99.2</td>\n",
       "      <td>8.135</td>\n",
       "    </tr>\n",
       "    <tr>\n",
       "      <th>2</th>\n",
       "      <td>5.22</td>\n",
       "      <td>180.0</td>\n",
       "      <td>33.786999</td>\n",
       "      <td>2190.2</td>\n",
       "      <td>2265.2</td>\n",
       "      <td>2.13</td>\n",
       "      <td>50.28</td>\n",
       "      <td>198.0</td>\n",
       "      <td>7.828</td>\n",
       "    </tr>\n",
       "    <tr>\n",
       "      <th>3</th>\n",
       "      <td>4.41</td>\n",
       "      <td>124.0</td>\n",
       "      <td>33.844002</td>\n",
       "      <td>2242.8</td>\n",
       "      <td>2307.4</td>\n",
       "      <td>2.56</td>\n",
       "      <td>68.43</td>\n",
       "      <td>298.4</td>\n",
       "      <td>7.799</td>\n",
       "    </tr>\n",
       "    <tr>\n",
       "      <th>4</th>\n",
       "      <td>4.11</td>\n",
       "      <td>72.9</td>\n",
       "      <td>33.958000</td>\n",
       "      <td>2287.3</td>\n",
       "      <td>2330.2</td>\n",
       "      <td>2.86</td>\n",
       "      <td>86.68</td>\n",
       "      <td>401.1</td>\n",
       "      <td>7.724</td>\n",
       "    </tr>\n",
       "  </tbody>\n",
       "</table>\n",
       "</div>"
      ],
      "text/plain": [
       "    TMP  OXYGEN        SAL  TCARBN  ALKALI  PHSPHT  SILCAT    PRS     PH\n",
       "0  7.80   318.0  32.547001  2003.6  2214.4    0.92   14.36   10.8  8.182\n",
       "1  5.70   294.8  32.901001  2055.1  2235.7    1.32   20.03   99.2  8.135\n",
       "2  5.22   180.0  33.786999  2190.2  2265.2    2.13   50.28  198.0  7.828\n",
       "3  4.41   124.0  33.844002  2242.8  2307.4    2.56   68.43  298.4  7.799\n",
       "4  4.11    72.9  33.958000  2287.3  2330.2    2.86   86.68  401.1  7.724"
      ]
     },
     "execution_count": 4,
     "metadata": {},
     "output_type": "execute_result"
    }
   ],
   "source": [
    "pacifica.head(5)"
   ]
  },
  {
   "cell_type": "code",
   "execution_count": 47,
   "metadata": {},
   "outputs": [],
   "source": [
    "correlation = pacifica.corr()"
   ]
  },
  {
   "cell_type": "code",
   "execution_count": 48,
   "metadata": {},
   "outputs": [
    {
     "data": {
      "text/plain": [
       "<AxesSubplot:>"
      ]
     },
     "execution_count": 48,
     "metadata": {},
     "output_type": "execute_result"
    },
    {
     "data": {
      "image/png": "[encoded data removed]",
      "text/plain": [
       "<Figure size 2000x700 with 2 Axes>"
      ]
     },
     "metadata": {},
     "output_type": "display_data"
    }
   ],
   "source": [
    "plt.rcParams[\"figure.figsize\"] = (20,7)\n",
    "sb.heatmap(correlation, annot=True, cmap='coolwarm')"
   ]
  },
  {
   "cell_type": "markdown",
   "metadata": {},
   "source": [
    "d'après la matrice de correlations on remarque que les variables suivants (TMP,Oxygene,TCARBN,PHSPHT,Silicate) qui ont une grande importance dans la variations de ph"
   ]
  },
  {
   "cell_type": "code",
   "execution_count": 49,
   "metadata": {},
   "outputs": [],
   "source": [
    "y=pacifica.iloc[:,-1]\n",
    "X=pacifica.drop(columns=['PH'])"
   ]
  },
  {
   "cell_type": "markdown",
   "metadata": {},
   "source": [
    "Machine learning"
   ]
  },
  {
   "cell_type": "code",
   "execution_count": 62,
   "metadata": {},
   "outputs": [],
   "source": [
    "#travailer seulement sur les variables (Temperature,Salinity,TCO2,Alkalinity,Alkalinity,Pressure)\n",
    "Filter = X.filter(\n",
    "items=\n",
    "['TMP','OXYGEN','TCARBN','SILCAT', 'PHSPHT'])"
   ]
  },
  {
   "cell_type": "markdown",
   "metadata": {},
   "source": [
    "**Entrainement sur tout les variables**"
   ]
  },
  {
   "cell_type": "code",
   "execution_count": 64,
   "metadata": {},
   "outputs": [],
   "source": [
    "X_train, X_test, y_train, y_test = train_test_split(Filter, y, test_size=0.2, random_state=42)"
   ]
  },
  {
   "cell_type": "code",
   "execution_count": 65,
   "metadata": {},
   "outputs": [],
   "source": [
    "grid = { \n",
    "    'n_estimators': [200,300,400,500],\n",
    "    'max_features': ['sqrt','log2'],\n",
    "    'max_depth' : [3,4,5,6,7]\n",
    "}"
   ]
  },
  {
   "cell_type": "code",
   "execution_count": 66,
   "metadata": {},
   "outputs": [],
   "source": [
    "## Grid Search function\n",
    "clf = GridSearchCV(estimator=RandomForestRegressor(), param_grid=grid, cv= 5,n_jobs=-1)\n",
    "clf.fit(X_train, y_train)\n",
    "ypred=clf.predict(X_test)"
   ]
  },
  {
   "cell_type": "code",
   "execution_count": 67,
   "metadata": {},
   "outputs": [],
   "source": [
    "RF_R2=r2_score(y_test,ypred)\n",
    "RF_MAE=mae(y_test,ypred)\n",
    "RF_MSE=mse(y_test,ypred)\n",
    "RF_RMSE=mse(y_test,ypred,squared=False)"
   ]
  },
  {
   "cell_type": "code",
   "execution_count": 68,
   "metadata": {},
   "outputs": [
    {
     "name": "stdout",
     "output_type": "stream",
     "text": [
      "R2 =  0.8021859116164425\n",
      "Mae =  0.08671719947375912\n",
      "Mse =  0.010160095973626196\n",
      "Rmse = 0.10079730142035646\n"
     ]
    }
   ],
   "source": [
    "print(\"R2 = \",RF_R2)\n",
    "print(\"Mae = \",RF_MAE)\n",
    "print(\"Mse = \",RF_MSE)\n",
    "print(\"Rmse =\",RF_RMSE)"
   ]
  },
  {
   "cell_type": "code",
   "execution_count": 69,
   "metadata": {},
   "outputs": [],
   "source": [
    "# Save the model to a file\n",
    "with open(\"pacifica_all_features_RandomFoerst.pkl\", \"wb\") as file:\n",
    "    pickle.dump(clf, file)"
   ]
  },
  {
   "cell_type": "markdown",
   "metadata": {},
   "source": [
    "**Xgboost entrainé par tous les variables**"
   ]
  },
  {
   "cell_type": "code",
   "execution_count": 70,
   "metadata": {},
   "outputs": [],
   "source": [
    "xgb_model = xgb.XGBRegressor(verbosity = 0)\n",
    "clf = GridSearchCV(xgb_model,grid, cv=5,n_jobs=1)\n",
    "clf.fit(X_train, y_train)\n",
    "modelxgb=clf.best_estimator_\n",
    "ypred=modelxgb.predict(X_test)"
   ]
  },
  {
   "cell_type": "code",
   "execution_count": 71,
   "metadata": {},
   "outputs": [],
   "source": [
    "Xgb_R2=r2_score(y_test,ypred)\n",
    "Xgb_MAE=mae(y_test,ypred)\n",
    "Xgb_MSE=mse(y_test,ypred)\n",
    "Xgb_RMSE=mse(y_test,ypred,squared=False)"
   ]
  },
  {
   "cell_type": "code",
   "execution_count": 72,
   "metadata": {},
   "outputs": [
    {
     "name": "stdout",
     "output_type": "stream",
     "text": [
      "R2 =  0.8335721175698306\n",
      "Mae =  0.07174832803456266\n",
      "Mse =  0.008548042619185101\n",
      "Rmse = 0.09245562513544052\n"
     ]
    }
   ],
   "source": [
    "print(\"R2 = \",Xgb_R2)\n",
    "print(\"Mae = \",Xgb_MAE)\n",
    "print(\"Mse = \",Xgb_MSE)\n",
    "print(\"Rmse =\",Xgb_RMSE)"
   ]
  },
  {
   "cell_type": "code",
   "execution_count": 73,
   "metadata": {},
   "outputs": [],
   "source": [
    "# Save the model to a file\n",
    "with open(\"pacifica_all_features_XGBoost.pkl\", \"wb\") as file:\n",
    "    pickle.dump(modelxgb, file)"
   ]
  },
  {
   "cell_type": "markdown",
   "metadata": {},
   "source": [
    "Creation des combinaisons"
   ]
  },
  {
   "cell_type": "code",
   "execution_count": 74,
   "metadata": {},
   "outputs": [],
   "source": [
    "temp=['TMP']\n",
    "oxyg=['OXYGEN']\n",
    "tCarb=['TCARBN']\n",
    "silicate=['SILCAT']\n",
    "phosphate=['PHSPHT']\n",
    "#Création des combinaisons de quatre variables\n",
    "comb4Var = combinations([temp, oxyg,tCarb, silicate,phosphate],4)\n",
    "#Création des combinaisons de trois variables\n",
    "comb3Var = combinations([temp, oxyg,tCarb, silicate,phosphate],3)\n",
    "#Création des combinaisons de deux variables\n",
    "comb2Var = combinations([temp, oxyg,tCarb, silicate,phosphate],2)\n",
    "#Création des combinaisons de deux variables\n",
    "comb1Var = combinations([temp, oxyg,tCarb, silicate,phosphate],1)"
   ]
  },
  {
   "cell_type": "code",
   "execution_count": 75,
   "metadata": {},
   "outputs": [],
   "source": [
    "comb4v=list(comb4Var)\n",
    "comb3v=list(comb3Var)\n",
    "comb2v=list(comb2Var)\n",
    "comb1v=list(comb1Var)"
   ]
  },
  {
   "cell_type": "markdown",
   "metadata": {},
   "source": [
    "**Entrainement sur quatre variables**"
   ]
  },
  {
   "cell_type": "markdown",
   "metadata": {},
   "source": [
    "**Random Forest**"
   ]
  },
  {
   "cell_type": "code",
   "execution_count": 76,
   "metadata": {},
   "outputs": [
    {
     "name": "stdout",
     "output_type": "stream",
     "text": [
      "R2 0.7971168108276248\n",
      "Mae 0.08748872539920308\n",
      "Mse 0.010420454327953873\n",
      "Rmse 0.10208062660443397\n",
      "------\n",
      "R2 0.8008592283710037\n",
      "Mae 0.08681312029893824\n",
      "Mse 0.010228236869001274\n",
      "Rmse 0.10113474610143279\n",
      "------\n",
      "R2 0.7996696809678856\n",
      "Mae 0.08730324395088693\n",
      "Mse 0.010289334214896194\n",
      "Rmse 0.10143635548902669\n",
      "------\n",
      "R2 0.7996164458337123\n",
      "Mae 0.08667857735530081\n",
      "Mse 0.01029206846945202\n",
      "Rmse 0.1014498322790729\n",
      "------\n",
      "R2 0.7987098220810135\n",
      "Mae 0.08765134301017072\n",
      "Mse 0.010338634335486435\n",
      "Rmse 0.10167907520963414\n",
      "------\n"
     ]
    }
   ],
   "source": [
    "Rf_r2_4v={}\n",
    "Rf_mae_4v={}\n",
    "Rf_mse_4v={}\n",
    "Rf_Rmse_4v={}\n",
    "for a in range(0,len(comb4v)):\n",
    "    xtr=pd.DataFrame()\n",
    "    xts=pd.DataFrame()\n",
    "    for i in comb4v[a] :\n",
    "        for x in i:\n",
    "            xtr.insert(0,x,X_train[x])\n",
    "            xts.insert(0,x,X_test[x])\n",
    "    modelrfc =RandomForestRegressor()\n",
    "\n",
    "    grids = GridSearchCV(modelrfc,grid,cv=5,n_jobs=-1)\n",
    "\n",
    "    grids.fit(xtr,y_train)\n",
    "    modelrfc=grids.best_estimator_\n",
    "    modelrfc.fit(xtr,y_train)\n",
    "    ypred=modelrfc.predict(xts)\n",
    "    scoreR2=r2_score(y_test,ypred)\n",
    "    scoreMae=mae(y_test,ypred)\n",
    "    scoreMse=mse(y_test,ypred)\n",
    "    scoreRmse = mse(y_test,ypred,squared=False)\n",
    "    var=''\n",
    "    for col in xtr.columns:\n",
    "        var+=col+'_'\n",
    "    Rf_r2_4v[var]=scoreR2\n",
    "    Rf_mae_4v[var]=scoreMae\n",
    "    Rf_mse_4v[var]=scoreMse\n",
    "    Rf_Rmse_4v[var]=scoreRmse\n",
    "    print(\"R2\",scoreR2)\n",
    "    print(\"Mae\",scoreMae)\n",
    "    print(\"Mse\",scoreMse)\n",
    "    print(\"Rmse\",scoreRmse)\n",
    "    pickle.dump(modelrfc,open('rf_4v_'+var,\"wb\"))\n",
    "    print(\"------\")"
   ]
  },
  {
   "cell_type": "code",
   "execution_count": 80,
   "metadata": {
    "scrolled": true
   },
   "outputs": [
    {
     "data": {
      "text/plain": [
       "{'SILCAT_TCARBN_OXYGEN_TMP_': 0.7971168108276248,\n",
       " 'PHSPHT_TCARBN_OXYGEN_TMP_': 0.8008592283710037,\n",
       " 'PHSPHT_SILCAT_OXYGEN_TMP_': 0.7996696809678856,\n",
       " 'PHSPHT_SILCAT_TCARBN_TMP_': 0.7996164458337123,\n",
       " 'PHSPHT_SILCAT_TCARBN_OXYGEN_': 0.7987098220810135}"
      ]
     },
     "execution_count": 80,
     "metadata": {},
     "output_type": "execute_result"
    }
   ],
   "source": [
    "Rf_r2_4v"
   ]
  },
  {
   "cell_type": "code",
   "execution_count": 81,
   "metadata": {},
   "outputs": [],
   "source": [
    "Rf_r2_4v['SILCAT & TCARBN & OXYGEN & TMP'] = Rf_r2_4v.pop('SILCAT_TCARBN_OXYGEN_TMP_')\n",
    "Rf_r2_4v['PHSPHT & TCARBN & OXYGEN & TMP'] = Rf_r2_4v.pop('PHSPHT_TCARBN_OXYGEN_TMP_')\n",
    "Rf_r2_4v['PHSPHT & SILCAT & OXYGEN & TMP'] = Rf_r2_4v.pop('PHSPHT_SILCAT_OXYGEN_TMP_')\n",
    "Rf_r2_4v['PHSPHT & SILCAT & TCARBN & TMP'] = Rf_r2_4v.pop('PHSPHT_SILCAT_TCARBN_TMP_')\n",
    "Rf_r2_4v['PHSPHT & SILCAT & TCARBN & OXYGEN'] = Rf_r2_4v.pop('PHSPHT_SILCAT_TCARBN_OXYGEN_')"
   ]
  },
  {
   "cell_type": "code",
   "execution_count": 82,
   "metadata": {},
   "outputs": [],
   "source": [
    "Variables = list(Rf_r2_4v.keys())\n",
    "ScoresR2 = list(Rf_r2_4v.values())\n",
    "ScoreMae=list(Rf_mae_4v.values())\n",
    "ScoreMse=list(Rf_mse_4v.values())\n",
    "ScoreRmse=list(Rf_Rmse_4v.values())\n",
    "tmp = max(ScoresR2)\n",
    "index = ScoresR2.index(tmp)"
   ]
  },
  {
   "cell_type": "code",
   "execution_count": 83,
   "metadata": {},
   "outputs": [
    {
     "name": "stdout",
     "output_type": "stream",
     "text": [
      "La meilleur combinaison pour quatre variables est: PHSPHT & TCARBN & OXYGEN & TMP\n",
      "R2 0.8008592283710037\n",
      "Mae 0.08681312029893824\n",
      "Mse 0.010228236869001274\n",
      "Rmse 0.10113474610143279\n"
     ]
    }
   ],
   "source": [
    "print(\"La meilleur combinaison pour quatre variables est:\",Variables[index])\n",
    "print(\"R2\",ScoresR2[index])\n",
    "print(\"Mae\",ScoreMae[index])\n",
    "print(\"Mse\",ScoreMse[index])\n",
    "print(\"Rmse\",ScoreRmse[index])"
   ]
  },
  {
   "cell_type": "markdown",
   "metadata": {},
   "source": [
    "**XGBoost**"
   ]
  },
  {
   "cell_type": "code",
   "execution_count": 78,
   "metadata": {},
   "outputs": [
    {
     "name": "stdout",
     "output_type": "stream",
     "text": [
      "R2 0.8239418712900699\n",
      "Mae 0.0748264764401499\n",
      "Mse 0.009042669808034802\n",
      "Rmse 0.0950929535141001\n",
      "------\n",
      "R2 0.8207622062922458\n",
      "Mae 0.07746647677797228\n",
      "Mse 0.00920598325959864\n",
      "Rmse 0.09594781529351588\n",
      "------\n",
      "R2 0.826276761123415\n",
      "Mae 0.0741035402997817\n",
      "Mse 0.008922745565082846\n",
      "Rmse 0.0944602856500172\n",
      "------\n",
      "R2 0.825356090891523\n",
      "Mae 0.07411380053263392\n",
      "Mse 0.008970032884163712\n",
      "Rmse 0.09471025754459604\n",
      "------\n",
      "R2 0.8216943774731245\n",
      "Mae 0.07577181380303316\n",
      "Mse 0.009158105230591875\n",
      "Rmse 0.09569798968939669\n",
      "------\n"
     ]
    }
   ],
   "source": [
    "xgb_r2_4v={}\n",
    "xgb_mae_4v={}\n",
    "xgb_mse_4v={}\n",
    "xgb_Rmse_4v={}\n",
    "\n",
    "for a in range(0,len(comb4v)):\n",
    "    xtr=pd.DataFrame()\n",
    "    xts=pd.DataFrame()\n",
    "    for i in comb4v[a] :\n",
    "        \n",
    "        for x in i:\n",
    "            \n",
    "            xtr.insert(0,x,X_train[x])\n",
    "            xts.insert(0,x,X_test[x])\n",
    "    modelxgb =xgb.XGBRegressor(verbosity = 0)\n",
    "\n",
    "    grids = GridSearchCV(modelxgb,grid,cv=5,n_jobs=-1)\n",
    "\n",
    "    grids.fit(xtr,y_train)\n",
    "    modelxgb=grids.best_estimator_\n",
    "    modelxgb.fit(xtr,y_train)\n",
    "    ypred=modelxgb.predict(xts)\n",
    "    scoreR2=r2_score(y_test,ypred)\n",
    "    scoreMae=mae(y_test,ypred)\n",
    "    scoreMse=mse(y_test,ypred)\n",
    "    scoreRmse = mse(y_test,ypred,squared=False)\n",
    "    var=''\n",
    "    for col in xtr.columns:\n",
    "        var+=col+'_'\n",
    "    xgb_r2_4v[var]=scoreR2\n",
    "    xgb_mae_4v[var]=scoreMae\n",
    "    xgb_mse_4v[var]=scoreMse\n",
    "    xgb_Rmse_4v[var]=scoreRmse\n",
    "    print(\"R2\",scoreR2)\n",
    "    print(\"Mae\",scoreMae)\n",
    "    print(\"Mse\",scoreMse)\n",
    "    print(\"Rmse\",scoreRmse)\n",
    "    pickle.dump(modelrfc,open('XGBoost_4v_'+var,\"wb\"))\n",
    "    print(\"------\")"
   ]
  },
  {
   "cell_type": "code",
   "execution_count": 79,
   "metadata": {},
   "outputs": [
    {
     "data": {
      "text/plain": [
       "{'SILCAT_TCARBN_OXYGEN_TMP_': 0.8239418712900699,\n",
       " 'PHSPHT_TCARBN_OXYGEN_TMP_': 0.8207622062922458,\n",
       " 'PHSPHT_SILCAT_OXYGEN_TMP_': 0.826276761123415,\n",
       " 'PHSPHT_SILCAT_TCARBN_TMP_': 0.825356090891523,\n",
       " 'PHSPHT_SILCAT_TCARBN_OXYGEN_': 0.8216943774731245}"
      ]
     },
     "execution_count": 79,
     "metadata": {},
     "output_type": "execute_result"
    }
   ],
   "source": [
    "xgb_r2_4v"
   ]
  },
  {
   "cell_type": "code",
   "execution_count": 84,
   "metadata": {},
   "outputs": [],
   "source": [
    "xgb_r2_4v['SILCAT & TCARBN & OXYGEN & TMP'] = xgb_r2_4v.pop('SILCAT_TCARBN_OXYGEN_TMP_')\n",
    "xgb_r2_4v['PHSPHT & TCARBN & OXYGEN & TMP'] = xgb_r2_4v.pop('PHSPHT_TCARBN_OXYGEN_TMP_')\n",
    "xgb_r2_4v['PHSPHT & SILCAT & OXYGEN & TMP'] = xgb_r2_4v.pop('PHSPHT_SILCAT_OXYGEN_TMP_')\n",
    "xgb_r2_4v['PHSPHT & SILCAT & TCARBN & TMP'] = xgb_r2_4v.pop('PHSPHT_SILCAT_TCARBN_TMP_')\n",
    "xgb_r2_4v['PHSPHT & SILCAT & TCARBN & OXYGEN'] = xgb_r2_4v.pop('PHSPHT_SILCAT_TCARBN_OXYGEN_')"
   ]
  },
  {
   "cell_type": "code",
   "execution_count": 85,
   "metadata": {},
   "outputs": [],
   "source": [
    "Variables = list(xgb_r2_4v.keys())\n",
    "ScoresR2 = list(xgb_r2_4v.values())\n",
    "ScoreMae=list(xgb_r2_4v.values())\n",
    "ScoreMse=list(xgb_r2_4v.values())\n",
    "ScoreRmse=list(xgb_r2_4v.values())\n",
    "tmp = max(ScoresR2)\n",
    "index = ScoresR2.index(tmp)"
   ]
  },
  {
   "cell_type": "code",
   "execution_count": 86,
   "metadata": {},
   "outputs": [
    {
     "name": "stdout",
     "output_type": "stream",
     "text": [
      "La meilleur combinaison pour quatre variables est: PHSPHT & SILCAT & OXYGEN & TMP\n",
      "R2 0.826276761123415\n",
      "Mae 0.826276761123415\n",
      "Mse 0.826276761123415\n",
      "Rmse 0.826276761123415\n"
     ]
    }
   ],
   "source": [
    "print(\"La meilleur combinaison pour quatre variables est:\",Variables[index])\n",
    "print(\"R2\",ScoresR2[index])\n",
    "print(\"Mae\",ScoreMae[index])\n",
    "print(\"Mse\",ScoreMse[index])\n",
    "print(\"Rmse\",ScoreRmse[index])"
   ]
  },
  {
   "cell_type": "markdown",
   "metadata": {},
   "source": [
    "**Entrainement sur trois variables**"
   ]
  },
  {
   "cell_type": "markdown",
   "metadata": {},
   "source": [
    "**Random Forest**"
   ]
  },
  {
   "cell_type": "code",
   "execution_count": 87,
   "metadata": {},
   "outputs": [
    {
     "name": "stdout",
     "output_type": "stream",
     "text": [
      "R2 0.7866349845115741\n",
      "Mae 0.09004741496759905\n",
      "Mse 0.01095882023616695\n",
      "Rmse 0.10468438391740646\n",
      "------\n",
      "R2 0.7805873335520359\n",
      "Mae 0.09137932547297843\n",
      "Mse 0.011269438729854617\n",
      "Rmse 0.10615761267970666\n",
      "------\n",
      "R2 0.7909276026864215\n",
      "Mae 0.0893077660643115\n",
      "Mse 0.010738343459255003\n",
      "Rmse 0.10362597868900927\n",
      "------\n",
      "R2 0.7797226382657643\n",
      "Mae 0.09000719179203326\n",
      "Mse 0.011313851072616716\n",
      "Rmse 0.10636658814033999\n",
      "------\n",
      "R2 0.7917423805071481\n",
      "Mae 0.08841102741968623\n",
      "Mse 0.010696494969476495\n",
      "Rmse 0.10342386073569529\n",
      "------\n",
      "R2 0.7874383640753148\n",
      "Mae 0.08933050061242513\n",
      "Mse 0.01091755718186402\n",
      "Rmse 0.10448711490831786\n",
      "------\n",
      "R2 0.7867699108264141\n",
      "Mae 0.0908218067638421\n",
      "Mse 0.01095189017208838\n",
      "Rmse 0.10465127888415116\n",
      "------\n",
      "R2 0.7928998409985648\n",
      "Mae 0.08935091494217087\n",
      "Mse 0.010637045666474013\n",
      "Rmse 0.10313605415408335\n",
      "------\n",
      "R2 0.7894242726542944\n",
      "Mae 0.09034761978308196\n",
      "Mse 0.010815557258996257\n",
      "Rmse 0.10399787141569897\n",
      "------\n",
      "R2 0.7853958931357286\n",
      "Mae 0.09011844978752953\n",
      "Mse 0.011022462251766327\n",
      "Rmse 0.1049879147891143\n",
      "------\n"
     ]
    }
   ],
   "source": [
    "Rf_r2_3v={}\n",
    "Rf_mae_3v={}\n",
    "Rf_mse_3v={}\n",
    "Rf_Rmse_3v={}\n",
    "for a in range(0,len(comb3v)):\n",
    "    xtr=pd.DataFrame()\n",
    "    xts=pd.DataFrame()\n",
    "    for i in comb3v[a] :\n",
    "        for x in i:\n",
    "            xtr.insert(0,x,X_train[x])\n",
    "            xts.insert(0,x,X_test[x])\n",
    "    modelrfc =RandomForestRegressor()\n",
    "\n",
    "    grids = GridSearchCV(modelrfc,grid,cv=5,n_jobs=-1)\n",
    "\n",
    "    grids.fit(xtr,y_train)\n",
    "    modelrfc=grids.best_estimator_\n",
    "    modelrfc.fit(xtr,y_train)\n",
    "    ypred=modelrfc.predict(xts)\n",
    "    scoreR2=r2_score(y_test,ypred)\n",
    "    scoreMae=mae(y_test,ypred)\n",
    "    scoreMse=mse(y_test,ypred)\n",
    "    scoreRmse = mse(y_test,ypred,squared=False)\n",
    "    var=''\n",
    "    for col in xtr.columns:\n",
    "        var+=col+'_'\n",
    "    Rf_r2_3v[var]=scoreR2\n",
    "    Rf_mae_3v[var]=scoreMae\n",
    "    Rf_mse_3v[var]=scoreMse\n",
    "    Rf_Rmse_3v[var]=scoreRmse\n",
    "    print(\"R2\",scoreR2)\n",
    "    print(\"Mae\",scoreMae)\n",
    "    print(\"Mse\",scoreMse)\n",
    "    print(\"Rmse\",scoreRmse)\n",
    "    pickle.dump(modelrfc,open('rf_3v_'+var,\"wb\"))\n",
    "    print(\"------\")"
   ]
  },
  {
   "cell_type": "code",
   "execution_count": 89,
   "metadata": {
    "scrolled": true
   },
   "outputs": [
    {
     "data": {
      "text/plain": [
       "{'TCARBN_OXYGEN_TMP_': 0.7866349845115741,\n",
       " 'SILCAT_OXYGEN_TMP_': 0.7805873335520359,\n",
       " 'PHSPHT_OXYGEN_TMP_': 0.7909276026864215,\n",
       " 'SILCAT_TCARBN_TMP_': 0.7797226382657643,\n",
       " 'PHSPHT_TCARBN_TMP_': 0.7917423805071481,\n",
       " 'PHSPHT_SILCAT_TMP_': 0.7874383640753148,\n",
       " 'SILCAT_TCARBN_OXYGEN_': 0.7867699108264141,\n",
       " 'PHSPHT_TCARBN_OXYGEN_': 0.7928998409985648,\n",
       " 'PHSPHT_SILCAT_OXYGEN_': 0.7894242726542944,\n",
       " 'PHSPHT_SILCAT_TCARBN_': 0.7853958931357286}"
      ]
     },
     "execution_count": 89,
     "metadata": {},
     "output_type": "execute_result"
    }
   ],
   "source": [
    "Rf_r2_3v"
   ]
  },
  {
   "cell_type": "code",
   "execution_count": 90,
   "metadata": {},
   "outputs": [],
   "source": [
    "Rf_r2_3v['TCARBN & OXYGEN & TMP_'] = Rf_r2_3v.pop('TCARBN_OXYGEN_TMP_')\n",
    "Rf_r2_3v['SILCAT & OXYGEN & TMP_'] = Rf_r2_3v.pop('SILCAT_OXYGEN_TMP_')\n",
    "Rf_r2_3v['PHSPHT & OXYGEN & TMP_'] = Rf_r2_3v.pop('PHSPHT_OXYGEN_TMP_')\n",
    "Rf_r2_3v['SILCAT & TCARBN & TMP'] = Rf_r2_3v.pop('SILCAT_TCARBN_TMP_')\n",
    "Rf_r2_3v['PHSPHT & TCARBN & TMP'] = Rf_r2_3v.pop('PHSPHT_TCARBN_TMP_')\n",
    "Rf_r2_3v['PHSPHT & SILCAT & TMP'] = Rf_r2_3v.pop('PHSPHT_SILCAT_TMP_')\n",
    "Rf_r2_3v['SILCAT & TCARBN & OXYGEN'] = Rf_r2_3v.pop('SILCAT_TCARBN_OXYGEN_')\n",
    "Rf_r2_3v['PHSPHT & TCARBN & OXYGEN'] = Rf_r2_3v.pop('PHSPHT_TCARBN_OXYGEN_')\n",
    "Rf_r2_3v['PHSPHT & SILCAT & OXYGEN'] = Rf_r2_3v.pop('PHSPHT_SILCAT_OXYGEN_')\n",
    "Rf_r2_3v['PHSPHT & SILCAT & TCARBN'] = Rf_r2_3v.pop('PHSPHT_SILCAT_TCARBN_')"
   ]
  },
  {
   "cell_type": "code",
   "execution_count": 91,
   "metadata": {},
   "outputs": [],
   "source": [
    "Variables = list(Rf_r2_3v.keys())\n",
    "ScoresR2 = list(Rf_r2_3v.values())\n",
    "ScoreMae=list(Rf_mae_3v.values())\n",
    "ScoreMse=list(Rf_mse_3v.values())\n",
    "ScoreRmse=list(Rf_mse_3v.values())\n",
    "tmp = max(ScoresR2)\n",
    "index = ScoresR2.index(tmp)"
   ]
  },
  {
   "cell_type": "code",
   "execution_count": 92,
   "metadata": {},
   "outputs": [
    {
     "name": "stdout",
     "output_type": "stream",
     "text": [
      "La meilleur combinaison pour trois variables est: PHSPHT & TCARBN & OXYGEN\n",
      "R2 0.7928998409985648\n",
      "Mae 0.08935091494217087\n",
      "Mse 0.010637045666474013\n",
      "Rmse 0.010637045666474013\n"
     ]
    }
   ],
   "source": [
    "print(\"La meilleur combinaison pour trois variables est:\",Variables[index])\n",
    "print(\"R2\",ScoresR2[index])\n",
    "print(\"Mae\",ScoreMae[index])\n",
    "print(\"Mse\",ScoreMse[index])\n",
    "print(\"Rmse\",ScoreRmse[index])"
   ]
  },
  {
   "cell_type": "markdown",
   "metadata": {},
   "source": [
    "**xgboost**"
   ]
  },
  {
   "cell_type": "code",
   "execution_count": 93,
   "metadata": {},
   "outputs": [
    {
     "name": "stdout",
     "output_type": "stream",
     "text": [
      "R2 0.804188974183414\n",
      "Mae 0.0819838891082548\n",
      "Mse 0.01005721499033573\n",
      "Rmse 0.10028566692372211\n",
      "------\n",
      "R2 0.8108307236291261\n",
      "Mae 0.07873850715680931\n",
      "Mse 0.00971608250400659\n",
      "Rmse 0.09857019074754086\n",
      "------\n",
      "R2 0.8057047272050082\n",
      "Mae 0.08288080232677547\n",
      "Mse 0.009979363122970998\n",
      "Rmse 0.09989676232476705\n",
      "------\n",
      "R2 0.8051151607062899\n",
      "Mae 0.07922914328341013\n",
      "Mse 0.01000964434438835\n",
      "Rmse 0.10004821010087261\n",
      "------\n",
      "R2 0.8056643698223437\n",
      "Mae 0.08209099409797393\n",
      "Mse 0.009981435952487173\n",
      "Rmse 0.09990713664442182\n",
      "------\n",
      "R2 0.8100028310895866\n",
      "Mae 0.07962808616740051\n",
      "Mse 0.009758604589902017\n",
      "Rmse 0.09878564971645434\n",
      "------\n",
      "R2 0.8046243177538278\n",
      "Mae 0.08113842097891245\n",
      "Mse 0.01003485494261087\n",
      "Rmse 0.10017412311875193\n",
      "------\n",
      "R2 0.806715400636259\n",
      "Mae 0.08261295996469724\n",
      "Mse 0.009927453073775759\n",
      "Rmse 0.09963660508957418\n",
      "------\n",
      "R2 0.8062989328928702\n",
      "Mae 0.08028477690579812\n",
      "Mse 0.009948843624253361\n",
      "Rmse 0.09974389016001613\n",
      "------\n",
      "R2 0.7986547091711411\n",
      "Mae 0.08343799218667398\n",
      "Mse 0.010341465036061226\n",
      "Rmse 0.10169299403627187\n",
      "------\n"
     ]
    }
   ],
   "source": [
    "xgb_r2_3v={}\n",
    "xgb_mae_3v={}\n",
    "xgb_mse_3v={}\n",
    "xgb_Rmse_3v={}\n",
    "\n",
    "for a in range(0,len(comb3v)):\n",
    "    xtr=pd.DataFrame()\n",
    "    xts=pd.DataFrame()\n",
    "    for i in comb3v[a] :   \n",
    "        for x in i:       \n",
    "            xtr.insert(0,x,X_train[x])\n",
    "            xts.insert(0,x,X_test[x])\n",
    "    modelxgb =xgb.XGBRegressor(verbosity = 0)\n",
    "\n",
    "    grids = GridSearchCV(modelxgb,grid,cv=5,n_jobs=-1)\n",
    "\n",
    "    grids.fit(xtr,y_train)\n",
    "    modelxgb=grids.best_estimator_\n",
    "    modelxgb.fit(xtr,y_train)\n",
    "    ypred=modelxgb.predict(xts)\n",
    "    scoreR2=r2_score(y_test,ypred)\n",
    "    scoreMae=mae(y_test,ypred)\n",
    "    scoreMse=mse(y_test,ypred)\n",
    "    scoreRmse = mse(y_test,ypred,squared=False)\n",
    "    var=''\n",
    "    for col in xtr.columns:\n",
    "        var+=col+'_'\n",
    "    xgb_r2_3v[var]=scoreR2\n",
    "    xgb_mae_3v[var]=scoreMae\n",
    "    xgb_mse_3v[var]=scoreMse\n",
    "    xgb_Rmse_3v[var]=scoreRmse\n",
    "    print(\"R2\",scoreR2)\n",
    "    print(\"Mae\",scoreMae)\n",
    "    print(\"Mse\",scoreMse)\n",
    "    print(\"Rmse\",scoreRmse)\n",
    "    pickle.dump(modelxgb,open('XGBoost_3v_'+var,\"wb\"))\n",
    "    print(\"------\")"
   ]
  },
  {
   "cell_type": "code",
   "execution_count": 94,
   "metadata": {
    "scrolled": true
   },
   "outputs": [
    {
     "data": {
      "text/plain": [
       "{'TCARBN_OXYGEN_TMP_': 0.804188974183414,\n",
       " 'SILCAT_OXYGEN_TMP_': 0.8108307236291261,\n",
       " 'PHSPHT_OXYGEN_TMP_': 0.8057047272050082,\n",
       " 'SILCAT_TCARBN_TMP_': 0.8051151607062899,\n",
       " 'PHSPHT_TCARBN_TMP_': 0.8056643698223437,\n",
       " 'PHSPHT_SILCAT_TMP_': 0.8100028310895866,\n",
       " 'SILCAT_TCARBN_OXYGEN_': 0.8046243177538278,\n",
       " 'PHSPHT_TCARBN_OXYGEN_': 0.806715400636259,\n",
       " 'PHSPHT_SILCAT_OXYGEN_': 0.8062989328928702,\n",
       " 'PHSPHT_SILCAT_TCARBN_': 0.7986547091711411}"
      ]
     },
     "execution_count": 94,
     "metadata": {},
     "output_type": "execute_result"
    }
   ],
   "source": [
    "xgb_r2_3v"
   ]
  },
  {
   "cell_type": "code",
   "execution_count": 95,
   "metadata": {},
   "outputs": [],
   "source": [
    "xgb_r2_3v['TCARBN & OXYGEN & TMP_'] = xgb_r2_3v.pop('TCARBN_OXYGEN_TMP_')\n",
    "xgb_r2_3v['SILCAT & OXYGEN & TMP_'] = xgb_r2_3v.pop('SILCAT_OXYGEN_TMP_')\n",
    "xgb_r2_3v['PHSPHT & OXYGEN & TMP_'] = xgb_r2_3v.pop('PHSPHT_OXYGEN_TMP_')\n",
    "xgb_r2_3v['SILCAT & TCARBN & TMP'] = xgb_r2_3v.pop('SILCAT_TCARBN_TMP_')\n",
    "xgb_r2_3v['PHSPHT & TCARBN & TMP'] = xgb_r2_3v.pop('PHSPHT_TCARBN_TMP_')\n",
    "xgb_r2_3v['PHSPHT & SILCAT & TMP'] = xgb_r2_3v.pop('PHSPHT_SILCAT_TMP_')\n",
    "xgb_r2_3v['SILCAT & TCARBN & OXYGEN'] = xgb_r2_3v.pop('SILCAT_TCARBN_OXYGEN_')\n",
    "xgb_r2_3v['PHSPHT & TCARBN & OXYGEN'] = xgb_r2_3v.pop('PHSPHT_TCARBN_OXYGEN_')\n",
    "xgb_r2_3v['PHSPHT & SILCAT & OXYGEN'] = xgb_r2_3v.pop('PHSPHT_SILCAT_OXYGEN_')\n",
    "xgb_r2_3v['PHSPHT & SILCAT & TCARBN'] = xgb_r2_3v.pop('PHSPHT_SILCAT_TCARBN_')"
   ]
  },
  {
   "cell_type": "code",
   "execution_count": 96,
   "metadata": {},
   "outputs": [],
   "source": [
    "Variables = list(xgb_r2_3v.keys())\n",
    "ScoresR2 = list(xgb_r2_3v.values())\n",
    "ScoreMae=list(xgb_mae_3v.values())\n",
    "ScoreMse=list(xgb_mse_3v.values())\n",
    "ScoreRmse=list(xgb_Rmse_3v.values())\n",
    "tmp = max(ScoresR2)\n",
    "index = ScoresR2.index(tmp)"
   ]
  },
  {
   "cell_type": "code",
   "execution_count": 97,
   "metadata": {},
   "outputs": [
    {
     "name": "stdout",
     "output_type": "stream",
     "text": [
      "La meilleur combinaison pour trois variables est: SILCAT & OXYGEN & TMP_\n",
      "R2 0.8108307236291261\n",
      "Mae 0.07873850715680931\n",
      "Mse 0.00971608250400659\n",
      "Rmse 0.09857019074754086\n"
     ]
    }
   ],
   "source": [
    "print(\"La meilleur combinaison pour trois variables est:\",Variables[index])\n",
    "print(\"R2\",ScoresR2[index])\n",
    "print(\"Mae\",ScoreMae[index])\n",
    "print(\"Mse\",ScoreMse[index])\n",
    "print(\"Rmse\",ScoreRmse[index])"
   ]
  }
 ],
 "metadata": {
  "kernelspec": {
   "display_name": "Python 3 (ipykernel)",
   "language": "python",
   "name": "python3"
  },
  "language_info": {
   "codemirror_mode": {
    "name": "ipython",
    "version": 3
   },
   "file_extension": ".py",
   "mimetype": "text/x-python",
   "name": "python",
   "nbconvert_exporter": "python",
   "pygments_lexer": "ipython3",
   "version": "3.9.13"
  },
  "vscode": {
   "interpreter": {
    "hash": "d4c5ddc795be330f855bd0615a8a8068772e8fa446ee19691884c4ff421fcccb"
   }
  }
 },
 "nbformat": 4,
 "nbformat_minor": 2
}
