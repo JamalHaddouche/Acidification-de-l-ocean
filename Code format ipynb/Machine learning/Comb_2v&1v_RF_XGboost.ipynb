{
 "cells": [
  {
   "cell_type": "code",
   "execution_count": 1,
   "id": "b6b6ecce",
   "metadata": {},
   "outputs": [],
   "source": [
    "import pandas as pd\n",
    "import numpy as np\n",
    "import math\n",
    "from datetime import datetime as dt\n",
    "\n",
    "from sklearn.decomposition import PCA\n",
    "from sklearn.feature_selection import RFE\n",
    "\n",
    "from sklearn.ensemble import RandomForestRegressor\n",
    "from sklearn.svm import SVR\n",
    "from sklearn.model_selection import GridSearchCV\n",
    "import xgboost as xgb\n",
    "from sklearn.model_selection import train_test_split\n",
    "\n",
    "import matplotlib.pyplot as plt \n",
    "import seaborn as sb\n",
    "from itertools import combinations\n",
    "import warnings\n",
    "warnings.filterwarnings('ignore')\n",
    "plt.rcParams[\"figure.figsize\"] = (20,7)\n",
    "import pickle\n",
    "\n",
    "from sklearn.metrics import r2_score\n",
    "from sklearn.metrics import mean_absolute_error as  mae\n",
    "from sklearn.metrics import mean_squared_error as mse\n",
    "\n",
    "import tensorflow as tf\n",
    "from tensorflow import keras\n",
    "from keras.models import Sequential\n",
    "from keras.layers import Dense"
   ]
  },
  {
   "cell_type": "code",
   "execution_count": 8,
   "id": "f1030643",
   "metadata": {},
   "outputs": [],
   "source": [
    "pacifica=pd.read_csv('PacificaClean.csv')"
   ]
  },
  {
   "cell_type": "code",
   "execution_count": 3,
   "id": "9ae7bfcf",
   "metadata": {},
   "outputs": [
    {
     "data": {
      "text/html": [
       "<div>\n",
       "<style scoped>\n",
       "    .dataframe tbody tr th:only-of-type {\n",
       "        vertical-align: middle;\n",
       "    }\n",
       "\n",
       "    .dataframe tbody tr th {\n",
       "        vertical-align: top;\n",
       "    }\n",
       "\n",
       "    .dataframe thead th {\n",
       "        text-align: right;\n",
       "    }\n",
       "</style>\n",
       "<table border=\"1\" class=\"dataframe\">\n",
       "  <thead>\n",
       "    <tr style=\"text-align: right;\">\n",
       "      <th></th>\n",
       "      <th>Unnamed: 0</th>\n",
       "      <th>TMP</th>\n",
       "      <th>OXYGEN</th>\n",
       "      <th>SAL</th>\n",
       "      <th>TCARBN</th>\n",
       "      <th>ALKALI</th>\n",
       "      <th>PHSPHT</th>\n",
       "      <th>SILCAT</th>\n",
       "      <th>PRS</th>\n",
       "      <th>PH</th>\n",
       "    </tr>\n",
       "  </thead>\n",
       "  <tbody>\n",
       "    <tr>\n",
       "      <th>0</th>\n",
       "      <td>4197</td>\n",
       "      <td>7.80</td>\n",
       "      <td>318.0</td>\n",
       "      <td>32.547001</td>\n",
       "      <td>2003.6</td>\n",
       "      <td>2214.4</td>\n",
       "      <td>0.92</td>\n",
       "      <td>14.36</td>\n",
       "      <td>10.8</td>\n",
       "      <td>8.182</td>\n",
       "    </tr>\n",
       "    <tr>\n",
       "      <th>1</th>\n",
       "      <td>4199</td>\n",
       "      <td>5.70</td>\n",
       "      <td>294.8</td>\n",
       "      <td>32.901001</td>\n",
       "      <td>2055.1</td>\n",
       "      <td>2235.7</td>\n",
       "      <td>1.32</td>\n",
       "      <td>20.03</td>\n",
       "      <td>99.2</td>\n",
       "      <td>8.135</td>\n",
       "    </tr>\n",
       "    <tr>\n",
       "      <th>2</th>\n",
       "      <td>4201</td>\n",
       "      <td>5.22</td>\n",
       "      <td>180.0</td>\n",
       "      <td>33.786999</td>\n",
       "      <td>2190.2</td>\n",
       "      <td>2265.2</td>\n",
       "      <td>2.13</td>\n",
       "      <td>50.28</td>\n",
       "      <td>198.0</td>\n",
       "      <td>7.828</td>\n",
       "    </tr>\n",
       "    <tr>\n",
       "      <th>3</th>\n",
       "      <td>4202</td>\n",
       "      <td>4.41</td>\n",
       "      <td>124.0</td>\n",
       "      <td>33.844002</td>\n",
       "      <td>2242.8</td>\n",
       "      <td>2307.4</td>\n",
       "      <td>2.56</td>\n",
       "      <td>68.43</td>\n",
       "      <td>298.4</td>\n",
       "      <td>7.799</td>\n",
       "    </tr>\n",
       "    <tr>\n",
       "      <th>4</th>\n",
       "      <td>4203</td>\n",
       "      <td>4.11</td>\n",
       "      <td>72.9</td>\n",
       "      <td>33.958000</td>\n",
       "      <td>2287.3</td>\n",
       "      <td>2330.2</td>\n",
       "      <td>2.86</td>\n",
       "      <td>86.68</td>\n",
       "      <td>401.1</td>\n",
       "      <td>7.724</td>\n",
       "    </tr>\n",
       "  </tbody>\n",
       "</table>\n",
       "</div>"
      ],
      "text/plain": [
       "   Unnamed: 0   TMP  OXYGEN        SAL  TCARBN  ALKALI  PHSPHT  SILCAT    PRS  \\\n",
       "0        4197  7.80   318.0  32.547001  2003.6  2214.4    0.92   14.36   10.8   \n",
       "1        4199  5.70   294.8  32.901001  2055.1  2235.7    1.32   20.03   99.2   \n",
       "2        4201  5.22   180.0  33.786999  2190.2  2265.2    2.13   50.28  198.0   \n",
       "3        4202  4.41   124.0  33.844002  2242.8  2307.4    2.56   68.43  298.4   \n",
       "4        4203  4.11    72.9  33.958000  2287.3  2330.2    2.86   86.68  401.1   \n",
       "\n",
       "      PH  \n",
       "0  8.182  \n",
       "1  8.135  \n",
       "2  7.828  \n",
       "3  7.799  \n",
       "4  7.724  "
      ]
     },
     "execution_count": 3,
     "metadata": {},
     "output_type": "execute_result"
    }
   ],
   "source": [
    "pacifica.head(5)"
   ]
  },
  {
   "cell_type": "code",
   "execution_count": 9,
   "id": "c11b4c2d",
   "metadata": {},
   "outputs": [],
   "source": [
    "pacifica=pacifica.drop(columns=['Unnamed: 0'])"
   ]
  },
  {
   "cell_type": "code",
   "execution_count": 10,
   "id": "cc494030",
   "metadata": {},
   "outputs": [],
   "source": [
    "y=pacifica.iloc[:,-1]\n",
    "X=pacifica.drop(columns=['PH'])"
   ]
  },
  {
   "cell_type": "code",
   "execution_count": 11,
   "id": "a018289a",
   "metadata": {},
   "outputs": [],
   "source": [
    "#travailer seulement sur les variables (Temperature,Salinity,TCO2,Alkalinity,Alkalinity,Pressure)\n",
    "Filter = X.filter(\n",
    "items=\n",
    "['TMP','OXYGEN','TCARBN','SILCAT', 'PHSPHT'])"
   ]
  },
  {
   "cell_type": "code",
   "execution_count": 12,
   "id": "8a91cd1e",
   "metadata": {},
   "outputs": [],
   "source": [
    "X_train, X_test, y_train, y_test = train_test_split(Filter, y, test_size=0.2, random_state=42)"
   ]
  },
  {
   "cell_type": "code",
   "execution_count": 13,
   "id": "7f176452",
   "metadata": {},
   "outputs": [],
   "source": [
    "grid = { \n",
    "    'n_estimators': [200,300,400,500],\n",
    "    'max_features': ['sqrt','log2'],\n",
    "    'max_depth' : [3,4,5,6,7]\n",
    "}"
   ]
  },
  {
   "cell_type": "markdown",
   "id": "552a4c56",
   "metadata": {},
   "source": [
    "**Creation des combinaisons**"
   ]
  },
  {
   "cell_type": "code",
   "execution_count": 14,
   "id": "73aeacd2",
   "metadata": {},
   "outputs": [],
   "source": [
    "temp=['TMP']\n",
    "oxyg=['OXYGEN']\n",
    "tCarb=['TCARBN']\n",
    "silicate=['SILCAT']\n",
    "phosphate=['PHSPHT']\n",
    "#Création des combinaisons de deux variables\n",
    "comb2Var = combinations([temp, oxyg,tCarb, silicate,phosphate],2)\n",
    "#Création des combinaisons de deux variables\n",
    "comb1Var = combinations([temp, oxyg,tCarb, silicate,phosphate],1)"
   ]
  },
  {
   "cell_type": "code",
   "execution_count": 15,
   "id": "fd420a15",
   "metadata": {},
   "outputs": [],
   "source": [
    "comb2v=list(comb2Var)\n",
    "comb1v=list(comb1Var)"
   ]
  },
  {
   "cell_type": "markdown",
   "id": "a002fd3d",
   "metadata": {},
   "source": [
    "**Entrainement sur 2 variables**"
   ]
  },
  {
   "cell_type": "markdown",
   "id": "20c3dca8",
   "metadata": {},
   "source": [
    "**Random forest**"
   ]
  },
  {
   "cell_type": "code",
   "execution_count": 17,
   "id": "9b909b2b",
   "metadata": {},
   "outputs": [
    {
     "name": "stdout",
     "output_type": "stream",
     "text": [
      "R2 0.7754868325362922\n",
      "Mae 0.09250659788011638\n",
      "Mse 0.011531409857679713\n",
      "Rmse 0.1073844023016365\n",
      "------\n",
      "R2 0.7746691908173373\n",
      "Mae 0.09065798457443187\n",
      "Mse 0.011573405442546834\n",
      "Rmse 0.10757976316457865\n",
      "------\n",
      "R2 0.7235005798988815\n",
      "Mae 0.09731657444669074\n",
      "Mse 0.01420151955725344\n",
      "Rmse 0.1191701286281652\n",
      "------\n",
      "R2 0.7860211705289928\n",
      "Mae 0.08918050412907678\n",
      "Mse 0.010990346853021898\n",
      "Rmse 0.10483485514380175\n",
      "------\n",
      "R2 0.7784002959214774\n",
      "Mae 0.09187000523321019\n",
      "Mse 0.011381769011312236\n",
      "Rmse 0.10668537393341336\n",
      "------\n",
      "R2 0.7613225296809556\n",
      "Mae 0.09522416893268601\n",
      "Mse 0.012258914544457574\n",
      "Rmse 0.1107199825887702\n",
      "------\n",
      "R2 0.7848615726809595\n",
      "Mae 0.09097687063437353\n",
      "Mse 0.011049905934597449\n",
      "Rmse 0.10511853278369827\n",
      "------\n",
      "R2 0.7638275233645886\n",
      "Mae 0.09280459704451183\n",
      "Mse 0.012130253454405743\n",
      "Rmse 0.1101374298520069\n",
      "------\n",
      "R2 0.7780763736356275\n",
      "Mae 0.09087222040812738\n",
      "Mse 0.011398406256612224\n",
      "Rmse 0.1067633188722242\n",
      "------\n",
      "R2 0.77712296730416\n",
      "Mae 0.0914824721409996\n",
      "Mse 0.011447374962070605\n",
      "Rmse 0.10699240609534214\n",
      "------\n"
     ]
    }
   ],
   "source": [
    "Rf_r2_2v={}\n",
    "Rf_mae_2v={}\n",
    "Rf_mse_2v={}\n",
    "Rf_Rmse_2v={}\n",
    "for a in range(0,len(comb2v)):\n",
    "    xtr=pd.DataFrame()\n",
    "    xts=pd.DataFrame()\n",
    "    for i in comb2v[a] :\n",
    "        for x in i:\n",
    "            xtr.insert(0,x,X_train[x])\n",
    "            xts.insert(0,x,X_test[x])\n",
    "    modelrfc =RandomForestRegressor()\n",
    "\n",
    "    grids = GridSearchCV(modelrfc,grid,cv=5,n_jobs=-1)\n",
    "\n",
    "    grids.fit(xtr,y_train)\n",
    "    modelrfc=grids.best_estimator_\n",
    "    modelrfc.fit(xtr,y_train)\n",
    "    ypred=modelrfc.predict(xts)\n",
    "    scoreR2=r2_score(y_test,ypred)\n",
    "    scoreMae=mae(y_test,ypred)\n",
    "    scoreMse=mse(y_test,ypred)\n",
    "    scoreRmse = mse(y_test,ypred,squared=False)\n",
    "    var=''\n",
    "    for col in xtr.columns:\n",
    "        var+=col+'_'\n",
    "    Rf_r2_2v[var]=scoreR2\n",
    "    Rf_mae_2v[var]=scoreMae\n",
    "    Rf_mse_2v[var]=scoreMse\n",
    "    Rf_Rmse_2v[var]=scoreRmse\n",
    "    print(\"R2\",scoreR2)\n",
    "    print(\"Mae\",scoreMae)\n",
    "    print(\"Mse\",scoreMse)\n",
    "    print(\"Rmse\",scoreRmse)\n",
    "    pickle.dump(modelrfc,open('rf_2v_'+var,\"wb\"))\n",
    "    print(\"------\")"
   ]
  },
  {
   "cell_type": "code",
   "execution_count": 18,
   "id": "f80db67b",
   "metadata": {},
   "outputs": [
    {
     "data": {
      "text/plain": [
       "{'OXYGEN_TMP_': 0.7754868325362922,\n",
       " 'TCARBN_TMP_': 0.7746691908173373,\n",
       " 'SILCAT_TMP_': 0.7235005798988815,\n",
       " 'PHSPHT_TMP_': 0.7860211705289928,\n",
       " 'TCARBN_OXYGEN_': 0.7784002959214774,\n",
       " 'SILCAT_OXYGEN_': 0.7613225296809556,\n",
       " 'PHSPHT_OXYGEN_': 0.7848615726809595,\n",
       " 'SILCAT_TCARBN_': 0.7638275233645886,\n",
       " 'PHSPHT_TCARBN_': 0.7780763736356275,\n",
       " 'PHSPHT_SILCAT_': 0.77712296730416}"
      ]
     },
     "execution_count": 18,
     "metadata": {},
     "output_type": "execute_result"
    }
   ],
   "source": [
    "Rf_r2_2v"
   ]
  },
  {
   "cell_type": "code",
   "execution_count": 19,
   "id": "509c8dd9",
   "metadata": {},
   "outputs": [],
   "source": [
    "Rf_r2_2v['OXYGEN & TMP'] = Rf_r2_2v.pop('OXYGEN_TMP_')\n",
    "Rf_r2_2v['TCARBN & TMP'] = Rf_r2_2v.pop('TCARBN_TMP_')\n",
    "Rf_r2_2v['SILCAT & TMP'] = Rf_r2_2v.pop('SILCAT_TMP_')\n",
    "Rf_r2_2v['PHSPHT & TMP'] = Rf_r2_2v.pop('PHSPHT_TMP_')\n",
    "Rf_r2_2v['TCARBN & OXYGEN'] = Rf_r2_2v.pop('TCARBN_OXYGEN_')\n",
    "Rf_r2_2v['SILCAT & OXYGEN'] = Rf_r2_2v.pop('SILCAT_OXYGEN_')\n",
    "Rf_r2_2v['PHSPHT & OXYGEN'] = Rf_r2_2v.pop('PHSPHT_OXYGEN_')\n",
    "Rf_r2_2v['SILCAT & TCARBN'] = Rf_r2_2v.pop('SILCAT_TCARBN_')\n",
    "Rf_r2_2v['PHSPHT & TCARBN'] = Rf_r2_2v.pop('PHSPHT_TCARBN_')\n",
    "Rf_r2_2v['PHSPHT & SILCAT'] = Rf_r2_2v.pop('PHSPHT_SILCAT_')"
   ]
  },
  {
   "cell_type": "code",
   "execution_count": 20,
   "id": "2b027ef6",
   "metadata": {},
   "outputs": [],
   "source": [
    "Variables = list(Rf_r2_2v.keys())\n",
    "ScoresR2 = list(Rf_r2_2v.values())\n",
    "ScoreMae=list(Rf_mae_2v.values())\n",
    "ScoreMse=list(Rf_mse_2v.values())\n",
    "ScoreRmse=list(Rf_Rmse_2v.values())\n",
    "tmp = max(ScoresR2)\n",
    "index = ScoresR2.index(tmp)"
   ]
  },
  {
   "cell_type": "code",
   "execution_count": 21,
   "id": "bc38b857",
   "metadata": {},
   "outputs": [
    {
     "name": "stdout",
     "output_type": "stream",
     "text": [
      "La meilleur combinaison pour quatre variables est: PHSPHT & TMP\n",
      "R2 0.7860211705289928\n",
      "Mae 0.08918050412907678\n",
      "Mse 0.010990346853021898\n",
      "Rmse 0.10483485514380175\n"
     ]
    }
   ],
   "source": [
    "print(\"La meilleur combinaison pour quatre variables est:\",Variables[index])\n",
    "print(\"R2\",ScoresR2[index])\n",
    "print(\"Mae\",ScoreMae[index])\n",
    "print(\"Mse\",ScoreMse[index])\n",
    "print(\"Rmse\",ScoreRmse[index])"
   ]
  },
  {
   "cell_type": "markdown",
   "id": "170195b6",
   "metadata": {},
   "source": [
    "**XGBOOST**"
   ]
  },
  {
   "cell_type": "code",
   "execution_count": 22,
   "id": "eb943530",
   "metadata": {},
   "outputs": [
    {
     "name": "stdout",
     "output_type": "stream",
     "text": [
      "R2 0.783401048831049\n",
      "Mae 0.08891434599559866\n",
      "Mse 0.011124921129966584\n",
      "Rmse 0.10547474166816709\n",
      "------\n",
      "R2 0.7771238515036784\n",
      "Mae 0.0887187297990441\n",
      "Mse 0.01144732954795456\n",
      "Rmse 0.10699219386457387\n",
      "------\n",
      "R2 0.7319905194965942\n",
      "Mae 0.09434255378827677\n",
      "Mse 0.013765460620157936\n",
      "Rmse 0.11732629978038997\n",
      "------\n",
      "R2 0.789174343888608\n",
      "Mae 0.08724499751483154\n",
      "Mse 0.010828394060796841\n",
      "Rmse 0.10405956977038124\n",
      "------\n",
      "R2 0.7826238824719323\n",
      "Mae 0.08881820643061247\n",
      "Mse 0.011164837825792565\n",
      "Rmse 0.10566379619241666\n",
      "------\n",
      "R2 0.766213603997075\n",
      "Mae 0.09186829329585323\n",
      "Mse 0.01200769995771107\n",
      "Rmse 0.1095796512027259\n",
      "------\n",
      "R2 0.7851520972286637\n",
      "Mae 0.08923185988316604\n",
      "Mse 0.011034984058650745\n",
      "Rmse 0.10504753237773244\n",
      "------\n",
      "R2 0.7704865081894827\n",
      "Mae 0.090381662857551\n",
      "Mse 0.011788235727252449\n",
      "Rmse 0.10857364195444698\n",
      "------\n",
      "R2 0.7788338462504792\n",
      "Mae 0.0891868199610525\n",
      "Mse 0.011359501067769635\n",
      "Rmse 0.10658096015597548\n",
      "------\n",
      "R2 0.7812925846212048\n",
      "Mae 0.08877572100567456\n",
      "Mse 0.011233215735795854\n",
      "Rmse 0.10598686586457708\n",
      "------\n"
     ]
    }
   ],
   "source": [
    "xgb_r2_2v={}\n",
    "xgb_mae_2v={}\n",
    "xgb_mse_2v={}\n",
    "xgb_Rmse_2v={}\n",
    "\n",
    "for a in range(0,len(comb2v)):\n",
    "    xtr=pd.DataFrame()\n",
    "    xts=pd.DataFrame()\n",
    "    for i in comb2v[a] :\n",
    "        for x in i:     \n",
    "            xtr.insert(0,x,X_train[x])\n",
    "            xts.insert(0,x,X_test[x])\n",
    "    modelxgb =xgb.XGBRegressor(verbosity = 0)\n",
    "\n",
    "    grids = GridSearchCV(modelxgb,grid,cv=5,n_jobs=-1)\n",
    "\n",
    "    grids.fit(xtr,y_train)\n",
    "    modelxgb=grids.best_estimator_\n",
    "    modelxgb.fit(xtr,y_train)\n",
    "    ypred=modelxgb.predict(xts)\n",
    "    scoreR2=r2_score(y_test,ypred)\n",
    "    scoreMae=mae(y_test,ypred)\n",
    "    scoreMse=mse(y_test,ypred)\n",
    "    scoreRmse = mse(y_test,ypred,squared=False)\n",
    "    var=''\n",
    "    for col in xtr.columns:\n",
    "        var+=col+'_'\n",
    "    xgb_r2_2v[var]=scoreR2\n",
    "    xgb_mae_2v[var]=scoreMae\n",
    "    xgb_mse_2v[var]=scoreMse\n",
    "    xgb_Rmse_2v[var]=scoreRmse\n",
    "    print(\"R2\",scoreR2)\n",
    "    print(\"Mae\",scoreMae)\n",
    "    print(\"Mse\",scoreMse)\n",
    "    print(\"Rmse\",scoreRmse)\n",
    "    pickle.dump(modelrfc,open('XGBoost_2v_'+var,\"wb\"))\n",
    "    print(\"------\")"
   ]
  },
  {
   "cell_type": "code",
   "execution_count": 23,
   "id": "dafc8eb5",
   "metadata": {},
   "outputs": [
    {
     "data": {
      "text/plain": [
       "{'OXYGEN_TMP_': 0.783401048831049,\n",
       " 'TCARBN_TMP_': 0.7771238515036784,\n",
       " 'SILCAT_TMP_': 0.7319905194965942,\n",
       " 'PHSPHT_TMP_': 0.789174343888608,\n",
       " 'TCARBN_OXYGEN_': 0.7826238824719323,\n",
       " 'SILCAT_OXYGEN_': 0.766213603997075,\n",
       " 'PHSPHT_OXYGEN_': 0.7851520972286637,\n",
       " 'SILCAT_TCARBN_': 0.7704865081894827,\n",
       " 'PHSPHT_TCARBN_': 0.7788338462504792,\n",
       " 'PHSPHT_SILCAT_': 0.7812925846212048}"
      ]
     },
     "execution_count": 23,
     "metadata": {},
     "output_type": "execute_result"
    }
   ],
   "source": [
    "xgb_r2_2v"
   ]
  },
  {
   "cell_type": "code",
   "execution_count": null,
   "id": "b0ef5d1a",
   "metadata": {},
   "outputs": [],
   "source": [
    "xgb_mae_2v\n",
    "xgb_mse_2v\n",
    "xgb_Rmse_2v"
   ]
  },
  {
   "cell_type": "code",
   "execution_count": 24,
   "id": "261080e3",
   "metadata": {},
   "outputs": [],
   "source": [
    "xgb_r2_2v['OXYGEN & TMP'] = xgb_r2_2v.pop('OXYGEN_TMP_')\n",
    "xgb_r2_2v['TCARBN & TMP'] = xgb_r2_2v.pop('TCARBN_TMP_')\n",
    "xgb_r2_2v['SILCAT & TMP'] = xgb_r2_2v.pop('SILCAT_TMP_')\n",
    "xgb_r2_2v['PHSPHT & TMP'] = xgb_r2_2v.pop('PHSPHT_TMP_')\n",
    "xgb_r2_2v['TCARBN & OXYGEN'] = xgb_r2_2v.pop('TCARBN_OXYGEN_')\n",
    "xgb_r2_2v['SILCAT & OXYGEN'] = xgb_r2_2v.pop('SILCAT_OXYGEN_')\n",
    "xgb_r2_2v['PHSPHT & OXYGEN'] = xgb_r2_2v.pop('PHSPHT_OXYGEN_')\n",
    "xgb_r2_2v['SILCAT & TCARBN'] = xgb_r2_2v.pop('SILCAT_TCARBN_')\n",
    "xgb_r2_2v['PHSPHT & TCARBN'] = xgb_r2_2v.pop('PHSPHT_TCARBN_')\n",
    "xgb_r2_2v['PHSPHT & SILCAT'] = xgb_r2_2v.pop('PHSPHT_SILCAT_')"
   ]
  },
  {
   "cell_type": "code",
   "execution_count": 25,
   "id": "3f91645e",
   "metadata": {},
   "outputs": [],
   "source": [
    "Variables = list(xgb_r2_2v.keys())\n",
    "ScoresR2 = list(xgb_r2_2v.values())\n",
    "ScoreMae=list(xgb_mae_2v.values())\n",
    "ScoreMse=list(xgb_mse_2v.values())\n",
    "ScoreRmse=list(xgb_Rmse_2v.values())\n",
    "tmp = max(ScoresR2)\n",
    "index = ScoresR2.index(tmp)"
   ]
  },
  {
   "cell_type": "code",
   "execution_count": 26,
   "id": "bd121eb7",
   "metadata": {},
   "outputs": [
    {
     "name": "stdout",
     "output_type": "stream",
     "text": [
      "La meilleur combinaison pour quatre variables est: PHSPHT & TMP\n",
      "R2 0.789174343888608\n",
      "Mae 0.08724499751483154\n",
      "Mse 0.010828394060796841\n",
      "Rmse 0.10405956977038124\n"
     ]
    }
   ],
   "source": [
    "print(\"La meilleur combinaison pour quatre variables est:\",Variables[index])\n",
    "print(\"R2\",ScoresR2[index])\n",
    "print(\"Mae\",ScoreMae[index])\n",
    "print(\"Mse\",ScoreMse[index])\n",
    "print(\"Rmse\",ScoreRmse[index])"
   ]
  },
  {
   "cell_type": "markdown",
   "id": "97cd0c13",
   "metadata": {},
   "source": [
    "**Entrainement pour une variable**"
   ]
  },
  {
   "cell_type": "markdown",
   "id": "33cb4775",
   "metadata": {},
   "source": [
    "**Random Forest**"
   ]
  },
  {
   "cell_type": "code",
   "execution_count": 39,
   "id": "63e8deb6",
   "metadata": {},
   "outputs": [
    {
     "name": "stdout",
     "output_type": "stream",
     "text": [
      "R2 0.5502500423272775\n",
      "Mae 0.1164758555797305\n",
      "Mse 0.023099986312547203\n",
      "Rmse 0.15198679650728614\n",
      "------\n",
      "R2 0.5873841205302278\n",
      "Mae 0.1259683968712878\n",
      "Mse 0.02119271165118655\n",
      "Rmse 0.14557716734153933\n",
      "------\n",
      "R2 0.6940093220315326\n",
      "Mae 0.09846843608744929\n",
      "Mse 0.01571624488730293\n",
      "Rmse 0.12536444825907755\n",
      "------\n",
      "R2 0.6086629529174157\n",
      "Mae 0.10899494524088377\n",
      "Mse 0.02009979162194507\n",
      "Rmse 0.14177373389293615\n",
      "------\n",
      "R2 0.7618621263303952\n",
      "Mae 0.09283856415497631\n",
      "Mse 0.012231199866548876\n",
      "Rmse 0.11059475514936898\n",
      "------\n"
     ]
    }
   ],
   "source": [
    "Rf_r2_1v={}\n",
    "Rf_mae_1v={}\n",
    "Rf_mse_1v={}\n",
    "Rf_Rmse_1v={}\n",
    "for a in range(0,len(comb1v)):\n",
    "    xtr=pd.DataFrame()\n",
    "    xts=pd.DataFrame()\n",
    "    for i in comb1v[a] :\n",
    "        for x in i:\n",
    "            xtr.insert(0,x,X_train[x])\n",
    "            xts.insert(0,x,X_test[x])\n",
    "    modelrfc =RandomForestRegressor()\n",
    "\n",
    "    grids = GridSearchCV(modelrfc,grid,cv=5,n_jobs=-1)\n",
    "\n",
    "    grids.fit(xtr,y_train)\n",
    "    modelrfc=grids.best_estimator_\n",
    "    modelrfc.fit(xtr,y_train)\n",
    "    ypred=modelrfc.predict(xts)\n",
    "    scoreR2=r2_score(y_test,ypred)\n",
    "    scoreMae=mae(y_test,ypred)\n",
    "    scoreMse=mse(y_test,ypred)\n",
    "    scoreRmse = mse(y_test,ypred,squared=False)\n",
    "    var=''\n",
    "    for col in xtr.columns:\n",
    "        var+=col+'_'\n",
    "    Rf_r2_1v[var]=scoreR2\n",
    "    Rf_mae_1v[var]=scoreMae\n",
    "    Rf_mse_1v[var]=scoreMse\n",
    "    Rf_Rmse_1v[var]=scoreRmse\n",
    "    print(\"R2\",scoreR2)\n",
    "    print(\"Mae\",scoreMae)\n",
    "    print(\"Mse\",scoreMse)\n",
    "    print(\"Rmse\",scoreRmse)\n",
    "    pickle.dump(modelrfc,open('rf_1v_'+var,\"wb\"))\n",
    "    print(\"------\")"
   ]
  },
  {
   "cell_type": "code",
   "execution_count": 44,
   "id": "6a6eb75c",
   "metadata": {},
   "outputs": [
    {
     "data": {
      "text/plain": [
       "{'TMP_': 0.5502500423272775,\n",
       " 'OXYGEN_': 0.5873841205302278,\n",
       " 'TCARBN_': 0.6940093220315326,\n",
       " 'SILCAT_': 0.6086629529174157,\n",
       " 'PHSPHT_': 0.7618621263303952}"
      ]
     },
     "execution_count": 44,
     "metadata": {},
     "output_type": "execute_result"
    }
   ],
   "source": [
    "Rf_r2_1v"
   ]
  },
  {
   "cell_type": "code",
   "execution_count": 45,
   "id": "08bf24f4",
   "metadata": {},
   "outputs": [],
   "source": [
    "Rf_r2_1v['TMP'] = Rf_r2_1v.pop('TMP_')\n",
    "Rf_r2_1v['OXYGEN'] = Rf_r2_1v.pop('OXYGEN_')\n",
    "Rf_r2_1v['TCARBN_'] = Rf_r2_1v.pop('TCARBN_')\n",
    "Rf_r2_1v['SILCAT'] = Rf_r2_1v.pop('TCARBN_')\n",
    "Rf_r2_1v['PHSPHT'] = Rf_r2_1v.pop('PHSPHT_')"
   ]
  },
  {
   "cell_type": "code",
   "execution_count": 46,
   "id": "7cc93619",
   "metadata": {},
   "outputs": [],
   "source": [
    "Variables = list(Rf_r2_1v.keys())\n",
    "ScoresR2 = list(Rf_r2_1v.values())\n",
    "ScoreMae=list(Rf_mae_2v.values())\n",
    "ScoreMse=list(Rf_mse_2v.values())\n",
    "ScoreRmse=list(Rf_Rmse_2v.values())\n",
    "tmp = max(ScoresR2)\n",
    "index = ScoresR2.index(tmp)"
   ]
  },
  {
   "cell_type": "code",
   "execution_count": 47,
   "id": "ab4094df",
   "metadata": {},
   "outputs": [
    {
     "name": "stdout",
     "output_type": "stream",
     "text": [
      "La meilleur combinaison pour une variables est: PHSPHT\n",
      "R2 0.7618621263303952\n",
      "Mae 0.09187000523321019\n",
      "Mse 0.011381769011312236\n",
      "Rmse 0.10668537393341336\n"
     ]
    }
   ],
   "source": [
    "print(\"La meilleur combinaison pour une variables est:\",Variables[index])\n",
    "print(\"R2\",ScoresR2[index])\n",
    "print(\"Mae\",ScoreMae[index])\n",
    "print(\"Mse\",ScoreMse[index])\n",
    "print(\"Rmse\",ScoreRmse[index])"
   ]
  },
  {
   "cell_type": "markdown",
   "id": "8a229135",
   "metadata": {},
   "source": [
    "**Xgboost**"
   ]
  },
  {
   "cell_type": "code",
   "execution_count": 41,
   "id": "b2762f2e",
   "metadata": {},
   "outputs": [
    {
     "name": "stdout",
     "output_type": "stream",
     "text": [
      "R2 0.5470258403633723\n",
      "Mae 0.11677282541164173\n",
      "Mse 0.02326558726473071\n",
      "Rmse 0.1525306109105012\n",
      "------\n",
      "R2 0.5859188777222473\n",
      "Mae 0.12590819937519676\n",
      "Mse 0.021267969220934983\n",
      "Rmse 0.1458354182663971\n",
      "------\n",
      "R2 0.6924893302553842\n",
      "Mae 0.098618749598658\n",
      "Mse 0.015794314464909795\n",
      "Rmse 0.12567543302057804\n",
      "------\n",
      "R2 0.6078313759237322\n",
      "Mae 0.1093262668183868\n",
      "Mse 0.020142502948192486\n",
      "Rmse 0.14192428597034576\n",
      "------\n",
      "R2 0.7611105013759973\n",
      "Mae 0.09284936906352607\n",
      "Mse 0.012269804708778552\n",
      "Rmse 0.1107691505283784\n",
      "------\n"
     ]
    }
   ],
   "source": [
    "xgb_r2_1v={}\n",
    "xgb_mae_1v={}\n",
    "xgb_mse_1v={}\n",
    "xgb_Rmse_1v={}\n",
    "\n",
    "for a in range(0,len(comb1v)):\n",
    "    xtr=pd.DataFrame()\n",
    "    xts=pd.DataFrame()\n",
    "    for i in comb1v[a] :\n",
    "        for x in i:\n",
    "            xtr.insert(0,x,X_train[x])\n",
    "            xts.insert(0,x,X_test[x])\n",
    "    modelxgb =xgb.XGBRegressor(verbosity = 0)\n",
    "\n",
    "    grids = GridSearchCV(modelxgb,grid,cv=5,n_jobs=-1)\n",
    "\n",
    "    grids.fit(xtr,y_train)\n",
    "    modelxgb=grids.best_estimator_\n",
    "    modelxgb.fit(xtr,y_train)\n",
    "    ypred=modelxgb.predict(xts)\n",
    "    scoreR2=r2_score(y_test,ypred)\n",
    "    scoreMae=mae(y_test,ypred)\n",
    "    scoreMse=mse(y_test,ypred)\n",
    "    scoreRmse = mse(y_test,ypred,squared=False)\n",
    "    var=''\n",
    "    for col in xtr.columns:\n",
    "        var+=col+'_'\n",
    "    xgb_r2_1v[var]=scoreR2\n",
    "    xgb_mae_1v[var]=scoreMae\n",
    "    xgb_mse_1v[var]=scoreMse\n",
    "    xgb_Rmse_1v[var]=scoreRmse\n",
    "    print(\"R2\",scoreR2)\n",
    "    print(\"Mae\",scoreMae)\n",
    "    print(\"Mse\",scoreMse)\n",
    "    print(\"Rmse\",scoreRmse)\n",
    "    pickle.dump(modelrfc,open('XGBoost_1v_'+var,\"wb\"))\n",
    "    print(\"------\")"
   ]
  },
  {
   "cell_type": "code",
   "execution_count": 48,
   "id": "3617003e",
   "metadata": {},
   "outputs": [
    {
     "data": {
      "text/plain": [
       "{'TMP_': 0.5470258403633723,\n",
       " 'OXYGEN_': 0.5859188777222473,\n",
       " 'TCARBN_': 0.6924893302553842,\n",
       " 'SILCAT_': 0.6078313759237322,\n",
       " 'PHSPHT_': 0.7611105013759973}"
      ]
     },
     "execution_count": 48,
     "metadata": {},
     "output_type": "execute_result"
    }
   ],
   "source": [
    "xgb_r2_1v"
   ]
  },
  {
   "cell_type": "code",
   "execution_count": 49,
   "id": "c12f51b6",
   "metadata": {},
   "outputs": [],
   "source": [
    "xgb_r2_1v['TMP'] = xgb_r2_1v.pop('TMP_')\n",
    "xgb_r2_1v['OXYGEN'] = xgb_r2_1v.pop('OXYGEN_')\n",
    "xgb_r2_1v['TCARBN_'] = xgb_r2_1v.pop('TCARBN_')\n",
    "xgb_r2_1v['SILCAT'] = xgb_r2_1v.pop('TCARBN_')\n",
    "xgb_r2_1v['PHSPHT'] = xgb_r2_1v.pop('PHSPHT_')"
   ]
  },
  {
   "cell_type": "code",
   "execution_count": 50,
   "id": "13437a61",
   "metadata": {},
   "outputs": [],
   "source": [
    "Variables = list(xgb_r2_1v.keys())\n",
    "ScoresR2 = list(xgb_r2_1v.values())\n",
    "ScoreMae=list(xgb_mae_1v.values())\n",
    "ScoreMse=list(xgb_mse_1v.values())\n",
    "ScoreRmse=list(xgb_Rmse_1v.values())\n",
    "tmp = max(ScoresR2)\n",
    "index = ScoresR2.index(tmp)"
   ]
  },
  {
   "cell_type": "code",
   "execution_count": 52,
   "id": "08f1e166",
   "metadata": {},
   "outputs": [
    {
     "name": "stdout",
     "output_type": "stream",
     "text": [
      "La meilleur combinaison pour une variables est: PHSPHT\n",
      "R2 0.7611105013759973\n",
      "Mae 0.09284936906352607\n",
      "Mse 0.012269804708778552\n",
      "Rmse 0.1107691505283784\n"
     ]
    }
   ],
   "source": [
    "print(\"La meilleur combinaison pour une variables est:\",Variables[index])\n",
    "print(\"R2\",ScoresR2[index])\n",
    "print(\"Mae\",ScoreMae[index])\n",
    "print(\"Mse\",ScoreMse[index])\n",
    "print(\"Rmse\",ScoreRmse[index])"
   ]
  }
 ],
 "metadata": {
  "kernelspec": {
   "display_name": "Python 3 (ipykernel)",
   "language": "python",
   "name": "python3"
  },
  "language_info": {
   "codemirror_mode": {
    "name": "ipython",
    "version": 3
   },
   "file_extension": ".py",
   "mimetype": "text/x-python",
   "name": "python",
   "nbconvert_exporter": "python",
   "pygments_lexer": "ipython3",
   "version": "3.9.13"
  }
 },
 "nbformat": 4,
 "nbformat_minor": 5
}
